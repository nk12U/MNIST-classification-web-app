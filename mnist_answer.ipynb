{
 "cells": [
  {
   "cell_type": "markdown",
   "metadata": {},
   "source": [
    "# 起動・ライブラリの準備"
   ]
  },
  {
   "cell_type": "markdown",
   "metadata": {},
   "source": [
    "## ライブラリのインポート"
   ]
  },
  {
   "cell_type": "code",
   "execution_count": 1,
   "metadata": {
    "scrolled": true
   },
   "outputs": [],
   "source": [
    "# 配列計算ライブラリ NumPy\n",
    "import numpy as np\n",
    "\n",
    "# 画像表示用関数\n",
    "from matplotlib.pyplot import imshow\n",
    "import matplotlib.pyplot as plt\n",
    "%matplotlib inline\n",
    "\n",
    "# tf.Kerasのディープラーニング用クラス\n",
    "from tensorflow.keras.models import Sequential\n",
    "from tensorflow.keras.layers import Dense, Dropout, Activation\n",
    "from tensorflow.keras.optimizers import SGD,Adam\n",
    "from tensorflow.keras import utils\n",
    "\n",
    "# tf.Kerasに入っているMnistデータ\n",
    "from tensorflow.keras.datasets import mnist"
   ]
  },
  {
   "cell_type": "markdown",
   "metadata": {},
   "source": [
    "# データの準備・加工"
   ]
  },
  {
   "cell_type": "markdown",
   "metadata": {},
   "source": [
    "## データセットの読み込み"
   ]
  },
  {
   "cell_type": "code",
   "execution_count": 2,
   "metadata": {},
   "outputs": [],
   "source": [
    "(X_train, y_train), (X_test, y_test) = mnist.load_data() #★"
   ]
  },
  {
   "cell_type": "markdown",
   "metadata": {},
   "source": [
    "## 学習用画像を1枚表示"
   ]
  },
  {
   "cell_type": "code",
   "execution_count": 3,
   "metadata": {
    "scrolled": true
   },
   "outputs": [
    {
     "data": {
      "text/plain": [
       "<matplotlib.image.AxesImage at 0x23b9054e6e0>"
      ]
     },
     "execution_count": 3,
     "metadata": {},
     "output_type": "execute_result"
    },
    {
     "data": {
      "image/png": "[encoded data removed]",
      "text/plain": [
       "<Figure size 640x480 with 1 Axes>"
      ]
     },
     "metadata": {},
     "output_type": "display_data"
    }
   ],
   "source": [
    "imshow(X_train[0], \"gray\") #★"
   ]
  },
  {
   "cell_type": "markdown",
   "metadata": {},
   "source": [
    "## 学習用正解ラベルを1つ表示"
   ]
  },
  {
   "cell_type": "code",
   "execution_count": 4,
   "metadata": {
    "scrolled": true
   },
   "outputs": [
    {
     "name": "stdout",
     "output_type": "stream",
     "text": [
      "5\n"
     ]
    }
   ],
   "source": [
    "print(y_train[0]) #★"
   ]
  },
  {
   "cell_type": "markdown",
   "metadata": {},
   "source": [
    "## 変数の構造を確認"
   ]
  },
  {
   "cell_type": "code",
   "execution_count": 5,
   "metadata": {
    "scrolled": true
   },
   "outputs": [
    {
     "name": "stdout",
     "output_type": "stream",
     "text": [
      "(60000, 28, 28)\n"
     ]
    }
   ],
   "source": [
    "print(X_train.shape) #★"
   ]
  },
  {
   "cell_type": "markdown",
   "metadata": {},
   "source": [
    "## 画像の実際の内容を確認"
   ]
  },
  {
   "cell_type": "code",
   "execution_count": 6,
   "metadata": {},
   "outputs": [
    {
     "name": "stdout",
     "output_type": "stream",
     "text": [
      "[[  0   0   0   0   0   0   0   0   0   0   0   0   0   0   0   0   0   0\n",
      "    0   0   0   0   0   0   0   0   0   0]\n",
      " [  0   0   0   0   0   0   0   0   0   0   0   0   0   0   0   0   0   0\n",
      "    0   0   0   0   0   0   0   0   0   0]\n",
      " [  0   0   0   0   0   0   0   0   0   0   0   0   0   0   0   0   0   0\n",
      "    0   0   0   0   0   0   0   0   0   0]\n",
      " [  0   0   0   0   0   0   0   0   0   0   0   0   0   0   0   0   0   0\n",
      "    0   0   0   0   0   0   0   0   0   0]\n",
      " [  0   0   0   0   0   0   0   0   0   0   0   0   0   0   0   0   0   0\n",
      "    0   0   0   0   0   0   0   0   0   0]\n",
      " [  0   0   0   0   0   0   0   0   0   0   0   0   3  18  18  18 126 136\n",
      "  175  26 166 255 247 127   0   0   0   0]\n",
      " [  0   0   0   0   0   0   0   0  30  36  94 154 170 253 253 253 253 253\n",
      "  225 172 253 242 195  64   0   0   0   0]\n",
      " [  0   0   0   0   0   0   0  49 238 253 253 253 253 253 253 253 253 251\n",
      "   93  82  82  56  39   0   0   0   0   0]\n",
      " [  0   0   0   0   0   0   0  18 219 253 253 253 253 253 198 182 247 241\n",
      "    0   0   0   0   0   0   0   0   0   0]\n",
      " [  0   0   0   0   0   0   0   0  80 156 107 253 253 205  11   0  43 154\n",
      "    0   0   0   0   0   0   0   0   0   0]\n",
      " [  0   0   0   0   0   0   0   0   0  14   1 154 253  90   0   0   0   0\n",
      "    0   0   0   0   0   0   0   0   0   0]\n",
      " [  0   0   0   0   0   0   0   0   0   0   0 139 253 190   2   0   0   0\n",
      "    0   0   0   0   0   0   0   0   0   0]\n",
      " [  0   0   0   0   0   0   0   0   0   0   0  11 190 253  70   0   0   0\n",
      "    0   0   0   0   0   0   0   0   0   0]\n",
      " [  0   0   0   0   0   0   0   0   0   0   0   0  35 241 225 160 108   1\n",
      "    0   0   0   0   0   0   0   0   0   0]\n",
      " [  0   0   0   0   0   0   0   0   0   0   0   0   0  81 240 253 253 119\n",
      "   25   0   0   0   0   0   0   0   0   0]\n",
      " [  0   0   0   0   0   0   0   0   0   0   0   0   0   0  45 186 253 253\n",
      "  150  27   0   0   0   0   0   0   0   0]\n",
      " [  0   0   0   0   0   0   0   0   0   0   0   0   0   0   0  16  93 252\n",
      "  253 187   0   0   0   0   0   0   0   0]\n",
      " [  0   0   0   0   0   0   0   0   0   0   0   0   0   0   0   0   0 249\n",
      "  253 249  64   0   0   0   0   0   0   0]\n",
      " [  0   0   0   0   0   0   0   0   0   0   0   0   0   0  46 130 183 253\n",
      "  253 207   2   0   0   0   0   0   0   0]\n",
      " [  0   0   0   0   0   0   0   0   0   0   0   0  39 148 229 253 253 253\n",
      "  250 182   0   0   0   0   0   0   0   0]\n",
      " [  0   0   0   0   0   0   0   0   0   0  24 114 221 253 253 253 253 201\n",
      "   78   0   0   0   0   0   0   0   0   0]\n",
      " [  0   0   0   0   0   0   0   0  23  66 213 253 253 253 253 198  81   2\n",
      "    0   0   0   0   0   0   0   0   0   0]\n",
      " [  0   0   0   0   0   0  18 171 219 253 253 253 253 195  80   9   0   0\n",
      "    0   0   0   0   0   0   0   0   0   0]\n",
      " [  0   0   0   0  55 172 226 253 253 253 253 244 133  11   0   0   0   0\n",
      "    0   0   0   0   0   0   0   0   0   0]\n",
      " [  0   0   0   0 136 253 253 253 212 135 132  16   0   0   0   0   0   0\n",
      "    0   0   0   0   0   0   0   0   0   0]\n",
      " [  0   0   0   0   0   0   0   0   0   0   0   0   0   0   0   0   0   0\n",
      "    0   0   0   0   0   0   0   0   0   0]\n",
      " [  0   0   0   0   0   0   0   0   0   0   0   0   0   0   0   0   0   0\n",
      "    0   0   0   0   0   0   0   0   0   0]\n",
      " [  0   0   0   0   0   0   0   0   0   0   0   0   0   0   0   0   0   0\n",
      "    0   0   0   0   0   0   0   0   0   0]]\n"
     ]
    }
   ],
   "source": [
    "print(X_train[0]) #★"
   ]
  },
  {
   "cell_type": "markdown",
   "metadata": {},
   "source": [
    "## 前処理１：画像を一次元の配列に変形"
   ]
  },
  {
   "cell_type": "code",
   "execution_count": 7,
   "metadata": {},
   "outputs": [
    {
     "name": "stdout",
     "output_type": "stream",
     "text": [
      "[  0   0   0   0   0   0   0   0   0   0   0   0   0   0   0   0   0   0\n",
      "   0   0   0   0   0   0   0   0   0   0   0   0   0   0   0   0   0   0\n",
      "   0   0   0   0   0   0   0   0   0   0   0   0   0   0   0   0   0   0\n",
      "   0   0   0   0   0   0   0   0   0   0   0   0   0   0   0   0   0   0\n",
      "   0   0   0   0   0   0   0   0   0   0   0   0   0   0   0   0   0   0\n",
      "   0   0   0   0   0   0   0   0   0   0   0   0   0   0   0   0   0   0\n",
      "   0   0   0   0   0   0   0   0   0   0   0   0   0   0   0   0   0   0\n",
      "   0   0   0   0   0   0   0   0   0   0   0   0   0   0   0   0   0   0\n",
      "   0   0   0   0   0   0   0   0   3  18  18  18 126 136 175  26 166 255\n",
      " 247 127   0   0   0   0   0   0   0   0   0   0   0   0  30  36  94 154\n",
      " 170 253 253 253 253 253 225 172 253 242 195  64   0   0   0   0   0   0\n",
      "   0   0   0   0   0  49 238 253 253 253 253 253 253 253 253 251  93  82\n",
      "  82  56  39   0   0   0   0   0   0   0   0   0   0   0   0  18 219 253\n",
      " 253 253 253 253 198 182 247 241   0   0   0   0   0   0   0   0   0   0\n",
      "   0   0   0   0   0   0   0   0  80 156 107 253 253 205  11   0  43 154\n",
      "   0   0   0   0   0   0   0   0   0   0   0   0   0   0   0   0   0   0\n",
      "   0  14   1 154 253  90   0   0   0   0   0   0   0   0   0   0   0   0\n",
      "   0   0   0   0   0   0   0   0   0   0   0   0   0 139 253 190   2   0\n",
      "   0   0   0   0   0   0   0   0   0   0   0   0   0   0   0   0   0   0\n",
      "   0   0   0   0   0  11 190 253  70   0   0   0   0   0   0   0   0   0\n",
      "   0   0   0   0   0   0   0   0   0   0   0   0   0   0   0   0  35 241\n",
      " 225 160 108   1   0   0   0   0   0   0   0   0   0   0   0   0   0   0\n",
      "   0   0   0   0   0   0   0   0   0  81 240 253 253 119  25   0   0   0\n",
      "   0   0   0   0   0   0   0   0   0   0   0   0   0   0   0   0   0   0\n",
      "   0   0  45 186 253 253 150  27   0   0   0   0   0   0   0   0   0   0\n",
      "   0   0   0   0   0   0   0   0   0   0   0   0   0  16  93 252 253 187\n",
      "   0   0   0   0   0   0   0   0   0   0   0   0   0   0   0   0   0   0\n",
      "   0   0   0   0   0   0   0 249 253 249  64   0   0   0   0   0   0   0\n",
      "   0   0   0   0   0   0   0   0   0   0   0   0   0   0  46 130 183 253\n",
      " 253 207   2   0   0   0   0   0   0   0   0   0   0   0   0   0   0   0\n",
      "   0   0   0   0  39 148 229 253 253 253 250 182   0   0   0   0   0   0\n",
      "   0   0   0   0   0   0   0   0   0   0   0   0  24 114 221 253 253 253\n",
      " 253 201  78   0   0   0   0   0   0   0   0   0   0   0   0   0   0   0\n",
      "   0   0  23  66 213 253 253 253 253 198  81   2   0   0   0   0   0   0\n",
      "   0   0   0   0   0   0   0   0   0   0  18 171 219 253 253 253 253 195\n",
      "  80   9   0   0   0   0   0   0   0   0   0   0   0   0   0   0   0   0\n",
      "  55 172 226 253 253 253 253 244 133  11   0   0   0   0   0   0   0   0\n",
      "   0   0   0   0   0   0   0   0   0   0 136 253 253 253 212 135 132  16\n",
      "   0   0   0   0   0   0   0   0   0   0   0   0   0   0   0   0   0   0\n",
      "   0   0   0   0   0   0   0   0   0   0   0   0   0   0   0   0   0   0\n",
      "   0   0   0   0   0   0   0   0   0   0   0   0   0   0   0   0   0   0\n",
      "   0   0   0   0   0   0   0   0   0   0   0   0   0   0   0   0   0   0\n",
      "   0   0   0   0   0   0   0   0   0   0   0   0   0   0   0   0   0   0\n",
      "   0   0   0   0   0   0   0   0   0   0]\n"
     ]
    }
   ],
   "source": [
    "x_train = X_train.reshape(60000, 784)\n",
    "x_test = X_test.reshape(10000, 784)\n",
    "print(x_train[0])"
   ]
  },
  {
   "cell_type": "markdown",
   "metadata": {},
   "source": [
    "## 前処理２：画素の正規化"
   ]
  },
  {
   "cell_type": "code",
   "execution_count": 8,
   "metadata": {},
   "outputs": [],
   "source": [
    "x_train = x_train.astype('float32')\n",
    "x_test = x_test.astype('float32')\n",
    "\n",
    "x_train /= 255\n",
    "x_test /= 255"
   ]
  },
  {
   "cell_type": "markdown",
   "metadata": {},
   "source": [
    "## 前処理３：正解ラベルのOne-Hotエンコーディング"
   ]
  },
  {
   "cell_type": "code",
   "execution_count": 9,
   "metadata": {
    "scrolled": true
   },
   "outputs": [
    {
     "name": "stdout",
     "output_type": "stream",
     "text": [
      "[5 0 4 ... 5 6 8]\n"
     ]
    }
   ],
   "source": [
    "print(y_train) #★現在のラベルを表示"
   ]
  },
  {
   "cell_type": "code",
   "execution_count": 10,
   "metadata": {},
   "outputs": [],
   "source": [
    "#★One-Hotエンコーディング\n",
    "y_train_label = utils.to_categorical(y_train)\n",
    "y_test_label = utils.to_categorical(y_test)"
   ]
  },
  {
   "cell_type": "code",
   "execution_count": 11,
   "metadata": {},
   "outputs": [
    {
     "name": "stdout",
     "output_type": "stream",
     "text": [
      "[[0. 0. 0. ... 0. 0. 0.]\n",
      " [1. 0. 0. ... 0. 0. 0.]\n",
      " [0. 0. 0. ... 0. 0. 0.]\n",
      " ...\n",
      " [0. 0. 0. ... 0. 0. 0.]\n",
      " [0. 0. 0. ... 0. 0. 0.]\n",
      " [0. 0. 0. ... 0. 1. 0.]]\n"
     ]
    }
   ],
   "source": [
    "#★結果を表示\n",
    "print(y_train_label)"
   ]
  },
  {
   "cell_type": "markdown",
   "metadata": {},
   "source": [
    "# 学習方法の決定"
   ]
  },
  {
   "cell_type": "markdown",
   "metadata": {},
   "source": [
    "## ニューラルネットワークモデルを構築"
   ]
  },
  {
   "cell_type": "code",
   "execution_count": 12,
   "metadata": {},
   "outputs": [],
   "source": [
    "def build_multilayer_perceptron():\n",
    "    model = Sequential()\n",
    "\n",
    "    model.add(Dense(512, input_shape=(784,)))\n",
    "    model.add(Activation('relu'))\n",
    "    #model.add(Dense(256))\n",
    "    #model.add(Activation('relu'))\n",
    "    model.add(Dense(10))\n",
    "    model.add(Activation('softmax'))\n",
    "    \n",
    "    return model"
   ]
  },
  {
   "cell_type": "code",
   "execution_count": 13,
   "metadata": {},
   "outputs": [],
   "source": [
    "model = build_multilayer_perceptron() #★上の関数でモデルを構築"
   ]
  },
  {
   "cell_type": "markdown",
   "metadata": {},
   "source": [
    "## モデルの構造を確認"
   ]
  },
  {
   "cell_type": "code",
   "execution_count": 14,
   "metadata": {
    "scrolled": true
   },
   "outputs": [
    {
     "name": "stdout",
     "output_type": "stream",
     "text": [
      "Model: \"sequential\"\n",
      "_________________________________________________________________\n",
      " Layer (type)                Output Shape              Param #   \n",
      "=================================================================\n",
      " dense (Dense)               (None, 512)               401920    \n",
      "                                                                 \n",
      " activation (Activation)     (None, 512)               0         \n",
      "                                                                 \n",
      " dense_1 (Dense)             (None, 10)                5130      \n",
      "                                                                 \n",
      " activation_1 (Activation)   (None, 10)                0         \n",
      "                                                                 \n",
      "=================================================================\n",
      "Total params: 407050 (1.55 MB)\n",
      "Trainable params: 407050 (1.55 MB)\n",
      "Non-trainable params: 0 (0.00 Byte)\n",
      "_________________________________________________________________\n"
     ]
    }
   ],
   "source": [
    "model.summary() #★"
   ]
  },
  {
   "cell_type": "markdown",
   "metadata": {},
   "source": [
    "## モデルのコンパイル"
   ]
  },
  {
   "cell_type": "code",
   "execution_count": 15,
   "metadata": {},
   "outputs": [],
   "source": [
    "model.compile(loss='categorical_crossentropy',\n",
    "              optimizer=SGD(),\n",
    "              #optimizer=Adam(),\n",
    "              metrics=['accuracy'])"
   ]
  },
  {
   "cell_type": "markdown",
   "metadata": {},
   "source": [
    "# 学習"
   ]
  },
  {
   "cell_type": "markdown",
   "metadata": {},
   "source": [
    "## 学習の実行"
   ]
  },
  {
   "cell_type": "code",
   "execution_count": 16,
   "metadata": {},
   "outputs": [
    {
     "name": "stdout",
     "output_type": "stream",
     "text": [
      "Epoch 1/10\n",
      "469/469 [==============================] - 3s 5ms/step - loss: 1.0896 - accuracy: 0.7611 - val_loss: 0.5969 - val_accuracy: 0.8668\n",
      "Epoch 2/10\n",
      "469/469 [==============================] - 3s 7ms/step - loss: 0.5203 - accuracy: 0.8741 - val_loss: 0.4325 - val_accuracy: 0.8925\n",
      "Epoch 3/10\n",
      "469/469 [==============================] - 3s 6ms/step - loss: 0.4199 - accuracy: 0.8915 - val_loss: 0.3730 - val_accuracy: 0.9027\n",
      "Epoch 4/10\n",
      "469/469 [==============================] - 3s 6ms/step - loss: 0.3741 - accuracy: 0.9003 - val_loss: 0.3415 - val_accuracy: 0.9081\n",
      "Epoch 5/10\n",
      "469/469 [==============================] - 3s 6ms/step - loss: 0.3463 - accuracy: 0.9056 - val_loss: 0.3190 - val_accuracy: 0.9137\n",
      "Epoch 6/10\n",
      "469/469 [==============================] - 3s 5ms/step - loss: 0.3263 - accuracy: 0.9100 - val_loss: 0.3030 - val_accuracy: 0.9177\n",
      "Epoch 7/10\n",
      "469/469 [==============================] - 3s 5ms/step - loss: 0.3105 - accuracy: 0.9144 - val_loss: 0.2917 - val_accuracy: 0.9200\n",
      "Epoch 8/10\n",
      "469/469 [==============================] - 3s 5ms/step - loss: 0.2977 - accuracy: 0.9177 - val_loss: 0.2802 - val_accuracy: 0.9229\n",
      "Epoch 9/10\n",
      "469/469 [==============================] - 3s 6ms/step - loss: 0.2865 - accuracy: 0.9208 - val_loss: 0.2701 - val_accuracy: 0.9249\n",
      "Epoch 10/10\n",
      "469/469 [==============================] - 3s 6ms/step - loss: 0.2765 - accuracy: 0.9236 - val_loss: 0.2621 - val_accuracy: 0.9268\n"
     ]
    }
   ],
   "source": [
    "history = model.fit(x_train, y_train_label,\n",
    "                   batch_size=128,\n",
    "                   epochs=10,\n",
    "                   verbose=1,\n",
    "                   validation_data=(x_test, y_test_label))"
   ]
  },
  {
   "cell_type": "markdown",
   "metadata": {},
   "source": [
    "# 予測・評価"
   ]
  },
  {
   "cell_type": "markdown",
   "metadata": {},
   "source": [
    "## 精度の評価"
   ]
  },
  {
   "cell_type": "code",
   "execution_count": 17,
   "metadata": {},
   "outputs": [
    {
     "name": "stdout",
     "output_type": "stream",
     "text": [
      "313/313 [==============================] - 1s 3ms/step - loss: 0.2621 - accuracy: 0.9268\n"
     ]
    }
   ],
   "source": [
    "score = model.evaluate(x_test, y_test_label) #★"
   ]
  },
  {
   "cell_type": "code",
   "execution_count": 18,
   "metadata": {
    "scrolled": true
   },
   "outputs": [
    {
     "name": "stdout",
     "output_type": "stream",
     "text": [
      "Test loss: 0.26207777857780457\n",
      "Test accuracy: 0.926800012588501\n"
     ]
    }
   ],
   "source": [
    "print('Test loss:', score[0])\n",
    "print('Test accuracy:', score[1])"
   ]
  },
  {
   "cell_type": "markdown",
   "metadata": {},
   "source": [
    "## 実際の予測"
   ]
  },
  {
   "cell_type": "code",
   "execution_count": 19,
   "metadata": {},
   "outputs": [
    {
     "name": "stdout",
     "output_type": "stream",
     "text": [
      "313/313 [==============================] - 1s 3ms/step\n"
     ]
    }
   ],
   "source": [
    "predicts = model.predict(x_test).argmax(axis=-1) #★"
   ]
  },
  {
   "cell_type": "code",
   "execution_count": 20,
   "metadata": {},
   "outputs": [
    {
     "name": "stdout",
     "output_type": "stream",
     "text": [
      "predict label is 7\n",
      "label is 7\n"
     ]
    },
    {
     "data": {
      "text/plain": [
       "<matplotlib.image.AxesImage at 0x23bb8c9c4c0>"
      ]
     },
     "execution_count": 20,
     "metadata": {},
     "output_type": "execute_result"
    },
    {
     "data": {
      "image/png": "[encoded data removed]",
      "text/plain": [
       "<Figure size 640x480 with 1 Axes>"
      ]
     },
     "metadata": {},
     "output_type": "display_data"
    }
   ],
   "source": [
    "#★ X_test, y_test, predictsの最初の要素[0]を表示\n",
    "print(f\"predict label is {predicts[0]}\")\n",
    "print(f\"label is {y_test[0]}\")\n",
    "imshow(X_test[0], \"gray\")"
   ]
  },
  {
   "cell_type": "markdown",
   "metadata": {},
   "source": [
    "## 不正解を取得"
   ]
  },
  {
   "cell_type": "code",
   "execution_count": 21,
   "metadata": {},
   "outputs": [
    {
     "data": {
      "text/plain": [
       "[(8, (5, 6)),\n",
       " (33, (4, 6)),\n",
       " (77, (2, 7)),\n",
       " (92, (9, 4)),\n",
       " (124, (7, 4)),\n",
       " (149, (2, 9)),\n",
       " (193, (9, 3)),\n",
       " (217, (6, 5)),\n",
       " (233, (8, 7)),\n",
       " (241, (9, 8)),\n",
       " (245, (3, 6)),\n",
       " (247, (4, 2)),\n",
       " (259, (6, 0)),\n",
       " (290, (8, 4)),\n",
       " (300, (4, 1)),\n",
       " (313, (3, 5)),\n",
       " (318, (2, 3)),\n",
       " (320, (9, 7)),\n",
       " (321, (2, 7)),\n",
       " (340, (5, 3)),\n",
       " (341, (6, 4)),\n",
       " (352, (5, 0)),\n",
       " (362, (2, 7)),\n",
       " (380, (0, 5)),\n",
       " (403, (8, 9)),\n",
       " (435, (8, 7)),\n",
       " (444, (2, 8)),\n",
       " (445, (6, 0)),\n",
       " (448, (9, 8)),\n",
       " (449, (3, 5)),\n",
       " (464, (3, 7)),\n",
       " (468, (7, 2)),\n",
       " (478, (5, 8)),\n",
       " (479, (9, 3)),\n",
       " (502, (5, 3)),\n",
       " (507, (3, 5)),\n",
       " (511, (4, 8)),\n",
       " (531, (3, 6)),\n",
       " (536, (2, 1)),\n",
       " (543, (8, 3)),\n",
       " (551, (7, 1)),\n",
       " (553, (8, 6)),\n",
       " (565, (4, 9)),\n",
       " (569, (3, 5)),\n",
       " (578, (3, 8)),\n",
       " (582, (8, 2)),\n",
       " (591, (8, 3)),\n",
       " (605, (7, 9)),\n",
       " (610, (4, 6)),\n",
       " (613, (2, 8)),\n",
       " (619, (1, 8)),\n",
       " (628, (3, 9)),\n",
       " (629, (2, 6)),\n",
       " (638, (5, 7)),\n",
       " (659, (2, 9)),\n",
       " (684, (7, 3)),\n",
       " (689, (7, 9)),\n",
       " (691, (8, 4)),\n",
       " (707, (4, 9)),\n",
       " (717, (0, 6)),\n",
       " (720, (5, 8)),\n",
       " (728, (2, 8)),\n",
       " (738, (2, 8)),\n",
       " (740, (4, 9)),\n",
       " (741, (2, 8)),\n",
       " (760, (4, 9)),\n",
       " (791, (5, 9)),\n",
       " (839, (8, 3)),\n",
       " (844, (8, 7)),\n",
       " (857, (5, 3)),\n",
       " (881, (4, 9)),\n",
       " (898, (7, 8)),\n",
       " (924, (2, 7)),\n",
       " (938, (3, 5)),\n",
       " (939, (2, 0)),\n",
       " (944, (3, 5)),\n",
       " (947, (8, 9)),\n",
       " (950, (7, 2)),\n",
       " (956, (1, 6)),\n",
       " (959, (4, 5)),\n",
       " (965, (6, 0)),\n",
       " (975, (2, 3)),\n",
       " (982, (3, 8)),\n",
       " (1012, (7, 9)),\n",
       " (1014, (6, 5)),\n",
       " (1032, (5, 8)),\n",
       " (1039, (7, 9)),\n",
       " (1044, (6, 8)),\n",
       " (1050, (2, 6)),\n",
       " (1062, (3, 7)),\n",
       " (1068, (8, 4)),\n",
       " (1082, (5, 3)),\n",
       " (1096, (7, 9)),\n",
       " (1101, (8, 2)),\n",
       " (1107, (9, 3)),\n",
       " (1112, (4, 6)),\n",
       " (1114, (3, 8)),\n",
       " (1119, (7, 2)),\n",
       " (1147, (4, 9)),\n",
       " (1173, (7, 9)),\n",
       " (1181, (6, 1)),\n",
       " (1191, (0, 6)),\n",
       " (1192, (9, 4)),\n",
       " (1194, (7, 9)),\n",
       " (1198, (8, 4)),\n",
       " (1202, (8, 5)),\n",
       " (1204, (3, 2)),\n",
       " (1206, (7, 2)),\n",
       " (1208, (3, 9)),\n",
       " (1224, (2, 6)),\n",
       " (1226, (7, 2)),\n",
       " (1228, (9, 3)),\n",
       " (1232, (9, 4)),\n",
       " (1234, (8, 5)),\n",
       " (1242, (4, 9)),\n",
       " (1247, (9, 0)),\n",
       " (1248, (8, 5)),\n",
       " (1251, (2, 6)),\n",
       " (1256, (2, 3)),\n",
       " (1260, (7, 1)),\n",
       " (1270, (4, 9)),\n",
       " (1283, (7, 2)),\n",
       " (1289, (5, 9)),\n",
       " (1291, (3, 5)),\n",
       " (1299, (5, 7)),\n",
       " (1319, (8, 3)),\n",
       " (1325, (8, 6)),\n",
       " (1326, (7, 2)),\n",
       " (1328, (7, 9)),\n",
       " (1337, (2, 6)),\n",
       " (1364, (8, 2)),\n",
       " (1375, (2, 8)),\n",
       " (1378, (5, 8)),\n",
       " (1391, (4, 9)),\n",
       " (1393, (5, 3)),\n",
       " (1409, (2, 1)),\n",
       " (1410, (2, 6)),\n",
       " (1429, (9, 4)),\n",
       " (1433, (8, 3)),\n",
       " (1440, (4, 9)),\n",
       " (1444, (6, 7)),\n",
       " (1453, (4, 9)),\n",
       " (1465, (4, 1)),\n",
       " (1466, (5, 3)),\n",
       " (1467, (5, 9)),\n",
       " (1494, (7, 9)),\n",
       " (1500, (7, 1)),\n",
       " (1514, (2, 8)),\n",
       " (1522, (7, 9)),\n",
       " (1525, (5, 0)),\n",
       " (1527, (1, 6)),\n",
       " (1530, (8, 7)),\n",
       " (1549, (4, 6)),\n",
       " (1553, (9, 8)),\n",
       " (1559, (9, 3)),\n",
       " (1569, (6, 4)),\n",
       " (1581, (7, 9)),\n",
       " (1609, (2, 6)),\n",
       " (1634, (4, 7)),\n",
       " (1681, (3, 7)),\n",
       " (1686, (8, 5)),\n",
       " (1695, (9, 7)),\n",
       " (1696, (2, 1)),\n",
       " (1709, (9, 5)),\n",
       " (1717, (8, 0)),\n",
       " (1718, (7, 9)),\n",
       " (1722, (2, 4)),\n",
       " (1751, (4, 3)),\n",
       " (1754, (7, 2)),\n",
       " (1759, (8, 6)),\n",
       " (1765, (3, 5)),\n",
       " (1772, (7, 9)),\n",
       " (1773, (1, 8)),\n",
       " (1774, (8, 5)),\n",
       " (1782, (8, 2)),\n",
       " (1790, (2, 7)),\n",
       " (1800, (6, 4)),\n",
       " (1813, (8, 5)),\n",
       " (1819, (6, 0)),\n",
       " (1850, (8, 7)),\n",
       " (1857, (6, 4)),\n",
       " (1865, (4, 9)),\n",
       " (1868, (1, 4)),\n",
       " (1878, (8, 3)),\n",
       " (1883, (7, 9)),\n",
       " (1899, (8, 3)),\n",
       " (1901, (9, 4)),\n",
       " (1903, (7, 4)),\n",
       " (1911, (5, 0)),\n",
       " (1917, (5, 8)),\n",
       " (1930, (2, 4)),\n",
       " (1938, (4, 6)),\n",
       " (1940, (5, 0)),\n",
       " (1952, (9, 5)),\n",
       " (1956, (4, 9)),\n",
       " (1968, (8, 1)),\n",
       " (1970, (5, 3)),\n",
       " (1973, (8, 5)),\n",
       " (1981, (6, 4)),\n",
       " (1982, (6, 5)),\n",
       " (1984, (2, 0)),\n",
       " (2016, (7, 2)),\n",
       " (2024, (7, 9)),\n",
       " (2035, (5, 3)),\n",
       " (2040, (5, 4)),\n",
       " (2043, (4, 8)),\n",
       " (2044, (2, 7)),\n",
       " (2053, (4, 9)),\n",
       " (2070, (7, 9)),\n",
       " (2093, (8, 1)),\n",
       " (2098, (2, 0)),\n",
       " (2099, (8, 9)),\n",
       " (2109, (3, 7)),\n",
       " (2110, (2, 8)),\n",
       " (2115, (7, 0)),\n",
       " (2118, (6, 3)),\n",
       " (2129, (9, 2)),\n",
       " (2130, (4, 9)),\n",
       " (2135, (6, 1)),\n",
       " (2138, (2, 8)),\n",
       " (2148, (4, 9)),\n",
       " (2168, (8, 2)),\n",
       " (2182, (1, 2)),\n",
       " (2185, (0, 5)),\n",
       " (2186, (2, 5)),\n",
       " (2189, (9, 1)),\n",
       " (2192, (5, 3)),\n",
       " (2215, (6, 5)),\n",
       " (2224, (5, 6)),\n",
       " (2266, (1, 6)),\n",
       " (2272, (8, 0)),\n",
       " (2293, (9, 6)),\n",
       " (2299, (2, 7)),\n",
       " (2325, (7, 2)),\n",
       " (2369, (5, 9)),\n",
       " (2371, (4, 9)),\n",
       " (2380, (9, 0)),\n",
       " (2387, (9, 1)),\n",
       " (2393, (8, 5)),\n",
       " (2394, (4, 9)),\n",
       " (2395, (8, 3)),\n",
       " (2406, (9, 1)),\n",
       " (2408, (3, 7)),\n",
       " (2422, (6, 4)),\n",
       " (2425, (8, 3)),\n",
       " (2433, (2, 1)),\n",
       " (2449, (0, 5)),\n",
       " (2488, (2, 4)),\n",
       " (2526, (5, 3)),\n",
       " (2545, (5, 3)),\n",
       " (2556, (5, 8)),\n",
       " (2559, (5, 3)),\n",
       " (2560, (3, 2)),\n",
       " (2573, (5, 8)),\n",
       " (2574, (5, 7)),\n",
       " (2586, (5, 3)),\n",
       " (2598, (8, 2)),\n",
       " (2607, (7, 8)),\n",
       " (2610, (2, 8)),\n",
       " (2631, (0, 6)),\n",
       " (2635, (2, 8)),\n",
       " (2648, (9, 0)),\n",
       " (2654, (6, 1)),\n",
       " (2670, (5, 8)),\n",
       " (2695, (7, 4)),\n",
       " (2713, (0, 8)),\n",
       " (2730, (7, 4)),\n",
       " (2751, (6, 0)),\n",
       " (2770, (3, 6)),\n",
       " (2771, (4, 9)),\n",
       " (2780, (2, 3)),\n",
       " (2810, (5, 0)),\n",
       " (2832, (5, 3)),\n",
       " (2836, (4, 9)),\n",
       " (2850, (5, 3)),\n",
       " (2863, (9, 4)),\n",
       " (2866, (6, 4)),\n",
       " (2896, (8, 0)),\n",
       " (2906, (3, 5)),\n",
       " (2907, (4, 9)),\n",
       " (2919, (5, 9)),\n",
       " (2925, (5, 0)),\n",
       " (2927, (3, 2)),\n",
       " (2945, (3, 7)),\n",
       " (2953, (3, 5)),\n",
       " (2990, (8, 9)),\n",
       " (2995, (6, 8)),\n",
       " (3005, (9, 1)),\n",
       " (3060, (9, 7)),\n",
       " (3073, (1, 2)),\n",
       " (3102, (5, 3)),\n",
       " (3110, (3, 5)),\n",
       " (3114, (4, 6)),\n",
       " (3117, (5, 9)),\n",
       " (3130, (6, 0)),\n",
       " (3133, (4, 9)),\n",
       " (3136, (7, 1)),\n",
       " (3145, (5, 9)),\n",
       " (3160, (9, 4)),\n",
       " (3166, (7, 9)),\n",
       " (3167, (3, 1)),\n",
       " (3189, (7, 4)),\n",
       " (3193, (3, 2)),\n",
       " (3206, (8, 3)),\n",
       " (3225, (7, 1)),\n",
       " (3240, (9, 3)),\n",
       " (3269, (6, 2)),\n",
       " (3280, (2, 8)),\n",
       " (3284, (8, 7)),\n",
       " (3288, (4, 9)),\n",
       " (3289, (8, 9)),\n",
       " (3302, (6, 4)),\n",
       " (3316, (7, 4)),\n",
       " (3329, (7, 2)),\n",
       " (3330, (2, 3)),\n",
       " (3333, (7, 9)),\n",
       " (3369, (9, 7)),\n",
       " (3405, (4, 9)),\n",
       " (3422, (6, 0)),\n",
       " (3436, (2, 7)),\n",
       " (3450, (0, 8)),\n",
       " (3468, (5, 4)),\n",
       " (3475, (3, 7)),\n",
       " (3490, (4, 9)),\n",
       " (3503, (9, 1)),\n",
       " (3520, (6, 4)),\n",
       " (3549, (3, 2)),\n",
       " (3550, (6, 5)),\n",
       " (3558, (5, 0)),\n",
       " (3565, (5, 8)),\n",
       " (3567, (8, 5)),\n",
       " (3573, (7, 4)),\n",
       " (3597, (9, 3)),\n",
       " (3598, (1, 5)),\n",
       " (3604, (7, 0)),\n",
       " (3629, (8, 3)),\n",
       " (3662, (8, 5)),\n",
       " (3664, (9, 4)),\n",
       " (3681, (2, 3)),\n",
       " (3702, (5, 3)),\n",
       " (3716, (9, 3)),\n",
       " (3718, (4, 9)),\n",
       " (3725, (6, 4)),\n",
       " (3726, (4, 9)),\n",
       " (3730, (7, 9)),\n",
       " (3732, (8, 1)),\n",
       " (3751, (7, 1)),\n",
       " (3752, (4, 2)),\n",
       " (3757, (8, 3)),\n",
       " (3767, (7, 2)),\n",
       " (3769, (3, 9)),\n",
       " (3776, (5, 8)),\n",
       " (3780, (4, 6)),\n",
       " (3796, (2, 8)),\n",
       " (3801, (6, 0)),\n",
       " (3806, (5, 8)),\n",
       " (3808, (7, 3)),\n",
       " (3811, (2, 3)),\n",
       " (3817, (2, 8)),\n",
       " (3821, (9, 4)),\n",
       " (3833, (8, 3)),\n",
       " (3836, (7, 9)),\n",
       " (3838, (7, 1)),\n",
       " (3846, (6, 2)),\n",
       " (3848, (7, 3)),\n",
       " (3850, (9, 4)),\n",
       " (3853, (6, 5)),\n",
       " (3855, (5, 0)),\n",
       " (3862, (2, 3)),\n",
       " (3869, (9, 4)),\n",
       " (3871, (8, 3)),\n",
       " (3876, (2, 8)),\n",
       " (3893, (5, 6)),\n",
       " (3902, (5, 3)),\n",
       " (3906, (1, 3)),\n",
       " (3926, (9, 3)),\n",
       " (3941, (4, 6)),\n",
       " (3943, (3, 5)),\n",
       " (3946, (2, 8)),\n",
       " (3951, (8, 5)),\n",
       " (3954, (8, 9)),\n",
       " (3962, (3, 2)),\n",
       " (3976, (7, 1)),\n",
       " (3984, (9, 8)),\n",
       " (3985, (9, 4)),\n",
       " (4000, (9, 4)),\n",
       " (4017, (4, 9)),\n",
       " (4063, (6, 5)),\n",
       " (4065, (0, 6)),\n",
       " (4068, (8, 3)),\n",
       " (4072, (5, 3)),\n",
       " (4075, (8, 0)),\n",
       " (4076, (5, 8)),\n",
       " (4078, (9, 7)),\n",
       " (4093, (9, 4)),\n",
       " (4131, (5, 1)),\n",
       " (4140, (8, 2)),\n",
       " (4145, (8, 3)),\n",
       " (4152, (5, 1)),\n",
       " (4154, (9, 4)),\n",
       " (4156, (2, 8)),\n",
       " (4159, (8, 3)),\n",
       " (4163, (9, 0)),\n",
       " (4173, (2, 4)),\n",
       " (4176, (2, 4)),\n",
       " (4180, (2, 3)),\n",
       " (4199, (7, 9)),\n",
       " (4201, (1, 7)),\n",
       " (4205, (2, 6)),\n",
       " (4211, (6, 5)),\n",
       " (4212, (1, 3)),\n",
       " (4224, (9, 7)),\n",
       " (4238, (7, 9)),\n",
       " (4248, (2, 8)),\n",
       " (4256, (3, 0)),\n",
       " (4271, (5, 3)),\n",
       " (4284, (9, 5)),\n",
       " (4289, (2, 7)),\n",
       " (4297, (7, 1)),\n",
       " (4300, (5, 8)),\n",
       " (4302, (5, 1)),\n",
       " (4306, (3, 7)),\n",
       " (4313, (4, 9)),\n",
       " (4317, (3, 7)),\n",
       " (4341, (2, 3)),\n",
       " (4344, (9, 4)),\n",
       " (4355, (5, 9)),\n",
       " (4359, (5, 7)),\n",
       " (4369, (9, 4)),\n",
       " (4374, (5, 6)),\n",
       " (4405, (9, 4)),\n",
       " (4423, (7, 9)),\n",
       " (4427, (2, 8)),\n",
       " (4433, (7, 3)),\n",
       " (4435, (3, 7)),\n",
       " (4449, (6, 0)),\n",
       " (4451, (2, 8)),\n",
       " (4477, (0, 3)),\n",
       " (4497, (8, 7)),\n",
       " (4498, (7, 8)),\n",
       " (4500, (9, 1)),\n",
       " (4521, (2, 7)),\n",
       " (4523, (8, 3)),\n",
       " (4540, (7, 9)),\n",
       " (4567, (4, 9)),\n",
       " (4571, (6, 2)),\n",
       " (4575, (4, 2)),\n",
       " (4578, (7, 9)),\n",
       " (4601, (8, 4)),\n",
       " (4615, (2, 4)),\n",
       " (4633, (9, 4)),\n",
       " (4639, (8, 9)),\n",
       " (4640, (8, 3)),\n",
       " (4671, (8, 3)),\n",
       " (4731, (8, 7)),\n",
       " (4735, (9, 4)),\n",
       " (4740, (3, 5)),\n",
       " (4751, (4, 6)),\n",
       " (4761, (9, 1)),\n",
       " (4785, (3, 8)),\n",
       " (4807, (8, 0)),\n",
       " (4808, (3, 5)),\n",
       " (4812, (2, 1)),\n",
       " (4814, (6, 0)),\n",
       " (4823, (9, 4)),\n",
       " (4827, (4, 9)),\n",
       " (4837, (7, 2)),\n",
       " (4852, (8, 6)),\n",
       " (4863, (8, 9)),\n",
       " (4874, (9, 0)),\n",
       " (4876, (2, 4)),\n",
       " (4879, (8, 4)),\n",
       " (4880, (0, 8)),\n",
       " (4886, (7, 1)),\n",
       " (4890, (8, 6)),\n",
       " (4910, (9, 4)),\n",
       " (4915, (5, 8)),\n",
       " (4939, (2, 3)),\n",
       " (4943, (2, 8)),\n",
       " (4950, (2, 3)),\n",
       " (4952, (6, 5)),\n",
       " (4956, (8, 4)),\n",
       " (4966, (7, 1)),\n",
       " (4978, (8, 7)),\n",
       " (4990, (3, 8)),\n",
       " (5001, (9, 4)),\n",
       " (5009, (9, 4)),\n",
       " (5046, (3, 2)),\n",
       " (5065, (8, 1)),\n",
       " (5067, (3, 2)),\n",
       " (5068, (4, 1)),\n",
       " (5078, (3, 2)),\n",
       " (5135, (9, 4)),\n",
       " (5138, (8, 5)),\n",
       " (5140, (3, 2)),\n",
       " (5177, (7, 9)),\n",
       " (5210, (9, 7)),\n",
       " (5217, (2, 8)),\n",
       " (5246, (7, 2)),\n",
       " (5288, (8, 0)),\n",
       " (5298, (8, 0)),\n",
       " (5331, (1, 6)),\n",
       " (5457, (1, 8)),\n",
       " (5562, (2, 8)),\n",
       " (5600, (7, 9)),\n",
       " (5601, (8, 4)),\n",
       " (5617, (4, 9)),\n",
       " (5620, (7, 9)),\n",
       " (5634, (2, 3)),\n",
       " (5642, (1, 5)),\n",
       " (5653, (0, 6)),\n",
       " (5677, (4, 6)),\n",
       " (5688, (7, 9)),\n",
       " (5714, (7, 9)),\n",
       " (5734, (3, 7)),\n",
       " (5749, (8, 6)),\n",
       " (5821, (5, 3)),\n",
       " (5835, (7, 9)),\n",
       " (5842, (4, 7)),\n",
       " (5887, (7, 3)),\n",
       " (5888, (4, 0)),\n",
       " (5891, (5, 6)),\n",
       " (5912, (3, 0)),\n",
       " (5913, (5, 3)),\n",
       " (5922, (5, 3)),\n",
       " (5926, (4, 9)),\n",
       " (5936, (4, 9)),\n",
       " (5937, (5, 3)),\n",
       " (5955, (3, 8)),\n",
       " (5972, (5, 3)),\n",
       " (5973, (3, 8)),\n",
       " (5985, (5, 8)),\n",
       " (6019, (4, 9)),\n",
       " (6023, (3, 5)),\n",
       " (6035, (2, 0)),\n",
       " (6037, (4, 9)),\n",
       " (6042, (5, 8)),\n",
       " (6059, (3, 9)),\n",
       " (6065, (3, 8)),\n",
       " (6071, (9, 3)),\n",
       " (6081, (9, 5)),\n",
       " (6091, (9, 5)),\n",
       " (6109, (2, 7)),\n",
       " (6112, (9, 5)),\n",
       " (6124, (9, 8)),\n",
       " (6157, (9, 0)),\n",
       " (6166, (9, 3)),\n",
       " (6168, (9, 5)),\n",
       " (6172, (9, 5)),\n",
       " (6173, (9, 0)),\n",
       " (6304, (8, 3)),\n",
       " (6324, (5, 6)),\n",
       " (6347, (8, 6)),\n",
       " (6385, (5, 2)),\n",
       " (6391, (2, 6)),\n",
       " (6400, (0, 6)),\n",
       " (6425, (6, 2)),\n",
       " (6426, (0, 6)),\n",
       " (6480, (2, 6)),\n",
       " (6505, (9, 0)),\n",
       " (6517, (3, 0)),\n",
       " (6555, (8, 7)),\n",
       " (6560, (9, 3)),\n",
       " (6568, (9, 4)),\n",
       " (6571, (9, 7)),\n",
       " (6574, (2, 6)),\n",
       " (6597, (0, 7)),\n",
       " (6598, (5, 6)),\n",
       " (6603, (8, 7)),\n",
       " (6625, (8, 4)),\n",
       " (6632, (9, 5)),\n",
       " (6641, (8, 5)),\n",
       " (6651, (0, 5)),\n",
       " (6706, (5, 7)),\n",
       " (6721, (2, 4)),\n",
       " (6740, (9, 0)),\n",
       " (6744, (2, 8)),\n",
       " (6746, (5, 4)),\n",
       " (6768, (7, 2)),\n",
       " (6775, (5, 1)),\n",
       " (6785, (2, 4)),\n",
       " (6796, (2, 7)),\n",
       " (6847, (6, 4)),\n",
       " (6906, (2, 6)),\n",
       " (6919, (9, 7)),\n",
       " (6926, (6, 4)),\n",
       " (6981, (5, 6)),\n",
       " (7094, (8, 9)),\n",
       " (7121, (8, 9)),\n",
       " (7130, (3, 9)),\n",
       " (7212, (2, 4)),\n",
       " (7220, (8, 3)),\n",
       " (7338, (4, 9)),\n",
       " (7432, (7, 2)),\n",
       " (7434, (4, 8)),\n",
       " (7451, (5, 6)),\n",
       " (7459, (9, 5)),\n",
       " (7472, (2, 9)),\n",
       " (7473, (4, 8)),\n",
       " (7492, (2, 7)),\n",
       " (7498, (5, 3)),\n",
       " (7539, (2, 8)),\n",
       " (7545, (8, 9)),\n",
       " (7637, (2, 3)),\n",
       " (7797, (5, 6)),\n",
       " (7800, (3, 2)),\n",
       " (7812, (1, 8)),\n",
       " (7821, (3, 2)),\n",
       " (7826, (5, 8)),\n",
       " (7839, (1, 8)),\n",
       " (7842, (5, 8)),\n",
       " (7849, (3, 9)),\n",
       " (7850, (5, 8)),\n",
       " (7851, (6, 0)),\n",
       " (7857, (2, 9)),\n",
       " (7858, (3, 2)),\n",
       " (7859, (5, 4)),\n",
       " (7870, (5, 4)),\n",
       " (7886, (2, 9)),\n",
       " (7888, (5, 4)),\n",
       " (7899, (1, 8)),\n",
       " (7917, (2, 9)),\n",
       " (7918, (5, 8)),\n",
       " (7928, (1, 8)),\n",
       " (7945, (2, 6)),\n",
       " (7990, (1, 8)),\n",
       " (8020, (1, 8)),\n",
       " (8047, (2, 9)),\n",
       " (8062, (5, 8)),\n",
       " (8072, (5, 3)),\n",
       " (8081, (4, 6)),\n",
       " (8091, (2, 8)),\n",
       " (8094, (2, 8)),\n",
       " (8095, (4, 8)),\n",
       " (8165, (2, 4)),\n",
       " (8183, (8, 5)),\n",
       " (8246, (3, 8)),\n",
       " (8272, (3, 5)),\n",
       " (8277, (3, 5)),\n",
       " (8279, (8, 6)),\n",
       " (8294, (8, 5)),\n",
       " (8332, (9, 7)),\n",
       " (8339, (8, 6)),\n",
       " (8353, (2, 4)),\n",
       " (8406, (4, 9)),\n",
       " (8408, (8, 6)),\n",
       " (8410, (8, 6)),\n",
       " (8426, (9, 7)),\n",
       " (8444, (5, 4)),\n",
       " (8520, (4, 9)),\n",
       " (8522, (8, 6)),\n",
       " (8639, (2, 3)),\n",
       " (8863, (5, 6)),\n",
       " (8952, (3, 9)),\n",
       " (9007, (3, 8)),\n",
       " (9009, (7, 2)),\n",
       " (9010, (2, 8)),\n",
       " (9013, (5, 6)),\n",
       " (9015, (7, 2)),\n",
       " (9016, (0, 5)),\n",
       " (9019, (7, 2)),\n",
       " (9024, (7, 2)),\n",
       " (9036, (7, 2)),\n",
       " (9045, (7, 2)),\n",
       " (9071, (1, 8)),\n",
       " (9182, (3, 9)),\n",
       " (9209, (2, 8)),\n",
       " (9211, (4, 9)),\n",
       " (9245, (9, 7)),\n",
       " (9280, (8, 5)),\n",
       " (9316, (8, 3)),\n",
       " (9317, (6, 4)),\n",
       " (9426, (6, 4)),\n",
       " (9446, (2, 6)),\n",
       " (9456, (2, 7)),\n",
       " (9465, (5, 3)),\n",
       " (9482, (5, 3)),\n",
       " (9534, (7, 9)),\n",
       " (9544, (9, 7)),\n",
       " (9560, (7, 3)),\n",
       " (9587, (9, 4)),\n",
       " (9595, (2, 8)),\n",
       " (9614, (3, 5)),\n",
       " (9624, (3, 8)),\n",
       " (9634, (0, 3)),\n",
       " (9642, (9, 7)),\n",
       " (9643, (1, 7)),\n",
       " (9662, (3, 2)),\n",
       " (9679, (6, 5)),\n",
       " (9698, (6, 5)),\n",
       " (9700, (2, 8)),\n",
       " (9716, (2, 0)),\n",
       " (9719, (5, 0)),\n",
       " (9726, (2, 0)),\n",
       " (9729, (5, 6)),\n",
       " (9732, (8, 5)),\n",
       " (9741, (9, 7)),\n",
       " (9744, (8, 1)),\n",
       " (9745, (4, 2)),\n",
       " (9749, (5, 6)),\n",
       " (9751, (2, 0)),\n",
       " (9752, (2, 0)),\n",
       " (9764, (4, 8)),\n",
       " (9768, (2, 0)),\n",
       " (9770, (5, 0)),\n",
       " (9779, (2, 0)),\n",
       " (9780, (8, 1)),\n",
       " (9792, (4, 9)),\n",
       " (9808, (9, 4)),\n",
       " (9811, (2, 8)),\n",
       " (9832, (2, 8)),\n",
       " (9839, (2, 7)),\n",
       " (9856, (9, 5)),\n",
       " (9858, (6, 8)),\n",
       " (9867, (2, 8)),\n",
       " (9874, (2, 8)),\n",
       " (9879, (0, 2)),\n",
       " (9883, (5, 6)),\n",
       " (9888, (6, 0)),\n",
       " (9890, (9, 4)),\n",
       " (9892, (8, 6)),\n",
       " (9893, (2, 8)),\n",
       " (9905, (3, 9)),\n",
       " (9925, (3, 2)),\n",
       " (9941, (5, 6)),\n",
       " (9943, (3, 5)),\n",
       " (9944, (3, 9)),\n",
       " (9970, (5, 3)),\n",
       " (9975, (3, 2)),\n",
       " (9980, (2, 3)),\n",
       " (9982, (5, 6)),\n",
       " (9986, (3, 8))]"
      ]
     },
     "execution_count": 21,
     "metadata": {},
     "output_type": "execute_result"
    }
   ],
   "source": [
    "wrongs = []\n",
    "for i, (y,predict) in enumerate(zip(y_test,predicts)):\n",
    "    if y != predict:\n",
    "        wrongs.append((i,(y, predict)))\n",
    "wrongs "
   ]
  },
  {
   "cell_type": "markdown",
   "metadata": {},
   "source": [
    "## 不正解画像を表示"
   ]
  },
  {
   "cell_type": "code",
   "execution_count": 22,
   "metadata": {
    "scrolled": true
   },
   "outputs": [
    {
     "data": {
      "image/png": "[encoded data removed]",
      "text/plain": [
       "<Figure size 1500x1500 with 20 Axes>"
      ]
     },
     "metadata": {},
     "output_type": "display_data"
    }
   ],
   "source": [
    "f = plt.figure(figsize=(15,15))\n",
    "for i ,(index, (label, predict)) in enumerate(wrongs[:20]):\n",
    "    i += 1\n",
    "    axes = f.add_subplot(4,5,i)\n",
    "    axes.set_title(f\"label:{label}, predict:{predict}\")\n",
    "    axes.imshow(X_test[index], \"gray\")"
   ]
  },
  {
   "cell_type": "markdown",
   "metadata": {
    "collapsed": true,
    "jupyter": {
     "outputs_hidden": true
    }
   },
   "source": [
    "## モデルの保存"
   ]
  },
  {
   "cell_type": "code",
   "execution_count": 23,
   "metadata": {},
   "outputs": [],
   "source": [
    "model.save(\"model.keras\")"
   ]
  }
 ],
 "metadata": {
  "kernelspec": {
   "display_name": "Python 3 (ipykernel)",
   "language": "python",
   "name": "python3"
  },
  "language_info": {
   "codemirror_mode": {
    "name": "ipython",
    "version": 3
   },
   "file_extension": ".py",
   "mimetype": "text/x-python",
   "name": "python",
   "nbconvert_exporter": "python",
   "pygments_lexer": "ipython3",
   "version": "3.10.8"
  },
  "toc": {
   "colors": {
    "hover_highlight": "#DAA520",
    "navigate_num": "#000000",
    "navigate_text": "#333333",
    "running_highlight": "#FF0000",
    "selected_highlight": "#FFD700",
    "sidebar_border": "#EEEEEE",
    "wrapper_background": "#FFFFFF"
   },
   "moveMenuLeft": true,
   "nav_menu": {
    "height": "335px",
    "width": "252px"
   },
   "navigate_menu": true,
   "number_sections": true,
   "sideBar": true,
   "threshold": 4,
   "toc_cell": false,
   "toc_section_display": "block",
   "toc_window_display": true,
   "widenNotebook": false
  }
 },
 "nbformat": 4,
 "nbformat_minor": 4
}
