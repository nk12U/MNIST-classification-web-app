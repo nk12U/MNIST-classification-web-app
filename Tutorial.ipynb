{
 "cells": [
  {
   "cell_type": "markdown",
   "metadata": {},
   "source": [
    "下の枠を「セル」と呼びます。  \n",
    "セル内に書かれたプログラムは、マウスでセルを選択するか、上下キーで選択後、  \n",
    "`Shift+Enter`で実行できます。  \n",
    "`Ctrl+Enter`でも実行できますが、この場合、次のセルに移動しません。"
   ]
  },
  {
   "cell_type": "code",
   "execution_count": 1,
   "metadata": {},
   "outputs": [
    {
     "name": "stdout",
     "output_type": "stream",
     "text": [
      "Hello Jupyter Notebook!\n"
     ]
    }
   ],
   "source": [
    "print(\"Hello Jupyter Notebook!\")"
   ]
  },
  {
   "cell_type": "markdown",
   "metadata": {},
   "source": [
    "セルの内容は、クリックするか、カーソルを合わせて`Enter`で**編集モード**に入れば、編集できます。  \n",
    "`Esc`で編集モードから抜けられます。抜けた状態を**コマンドモード**と呼びます。  \n",
    "下のセルを編集して`\"Hello AI!\"`と表示させてみましょう。"
   ]
  },
  {
   "cell_type": "code",
   "execution_count": 2,
   "metadata": {},
   "outputs": [
    {
     "name": "stdout",
     "output_type": "stream",
     "text": [
      "Hello XXXXX!\n"
     ]
    }
   ],
   "source": [
    "print(\"Hello XXXXX!\")"
   ]
  },
  {
   "cell_type": "markdown",
   "metadata": {},
   "source": [
    "通常のプログラムの記述のように、計算結果は変数に入れられます。"
   ]
  },
  {
   "cell_type": "code",
   "execution_count": 3,
   "metadata": {},
   "outputs": [
    {
     "name": "stdout",
     "output_type": "stream",
     "text": [
      "42\n"
     ]
    }
   ],
   "source": [
    "a = 23 + 19\n",
    "print(a)"
   ]
  },
  {
   "cell_type": "markdown",
   "metadata": {},
   "source": [
    "セルをまたいで変数の内容を呼び出せます。  \n",
    "  \n",
    "また、セルの最終行に書かれた変数、または計算式は、勝手に内容が表示されます。  \n",
    "※ a = 1 + 2 のような代入式だと表示されません。"
   ]
  },
  {
   "cell_type": "code",
   "execution_count": 4,
   "metadata": {},
   "outputs": [
    {
     "data": {
      "text/plain": [
       "100"
      ]
     },
     "execution_count": 4,
     "metadata": {},
     "output_type": "execute_result"
    }
   ],
   "source": [
    "a + 58"
   ]
  },
  {
   "cell_type": "markdown",
   "metadata": {},
   "source": [
    "編集モードから抜けた状態（`Esc`で抜けられます）で、`H`キーを押してみましょう。  \n",
    "キーボードショートカットの一覧が表示されます。"
   ]
  },
  {
   "cell_type": "markdown",
   "metadata": {},
   "source": [
    "一覧の右上の方に書いてある、以下の基本的なショートカットを試してみてください。  \n",
    "※`D,D`のように2つキーが書いてあるものは、キーを連続して2回押します。\n",
    "\n",
    "|キー|意味|\n",
    "|:---|:---|\n",
    "|A| insert cell above|\n",
    "|B| insert cell below|\n",
    "|X| cut selected cells|\n",
    "|C| copy selected cells|\n",
    "|Shift-V| paste cells above|\n",
    "|V| paste cells below|\n",
    "|Z| undo cell deletion|\n",
    "|D,D| delete selected cells|"
   ]
  },
  {
   "cell_type": "markdown",
   "metadata": {},
   "source": [
    "関数を定義すると、他のセルから呼び出せます。"
   ]
  },
  {
   "cell_type": "code",
   "execution_count": 5,
   "metadata": {},
   "outputs": [],
   "source": [
    "def squared(x):\n",
    "    \"\"\"\n",
    "    引数の二乗を返す\n",
    "    \"\"\"\n",
    "    return x * x"
   ]
  },
  {
   "cell_type": "code",
   "execution_count": 6,
   "metadata": {},
   "outputs": [
    {
     "data": {
      "text/plain": [
       "49"
      ]
     },
     "execution_count": 6,
     "metadata": {},
     "output_type": "execute_result"
    }
   ],
   "source": [
    "squared(7)"
   ]
  },
  {
   "cell_type": "markdown",
   "metadata": {},
   "source": [
    "実はこの説明文もセルです。セル選択時、コマンドモードで`M`を押すか、メニューで  \n",
    "`Cell` --> `Cell Type` --> `Markdown`  \n",
    "を選択すると、書式付き文章を表現するマークダウン形式のセルになります。  \n",
    "※`Y`でコードセルに戻ります。\n",
    "\n",
    "# 見出しを\n",
    "## 段階的に\n",
    "### 付けたり\n",
    "\n",
    "- 箇条書きを\n",
    "  - 記述\n",
    "  - したり\n",
    "\n",
    "**太字**にしたり~~打消し線を入れたり~~\n",
    "\n",
    "水平線を\n",
    "***\n",
    "入れたり\n",
    "\n",
    "|表|を|\n",
    "|:---|:---|\n",
    "|書いたり|できます|\n"
   ]
  },
  {
   "cell_type": "markdown",
   "metadata": {},
   "source": [
    "上のセルで、`Enter`キーで編集モードにし、  \n",
    "内容を見たり変更してみてください。  \n",
    "マークダウン形式のセルも `Shift+Enter`、`Ctrl+Enter`で内容を確定・表示できます。\n"
   ]
  },
  {
   "cell_type": "markdown",
   "metadata": {},
   "source": [
    "****"
   ]
  },
  {
   "cell_type": "markdown",
   "metadata": {},
   "source": [
    "セルは1個ずつでなくまとめて実行することもできます。  \n",
    "上のメニューから  \n",
    "`Cell` --> `Run All`  \n",
    "を選択してください。"
   ]
  },
  {
   "cell_type": "markdown",
   "metadata": {},
   "source": [
    "なお\n",
    "- `Run All Above`だと前側全部    \n",
    "- `Run All Below`だと後側全部\n",
    "\n",
    "を実行します。\n"
   ]
  },
  {
   "cell_type": "markdown",
   "metadata": {},
   "source": [
    "`Ctrl + S`でファイルを保存します。"
   ]
  },
  {
   "cell_type": "code",
   "execution_count": null,
   "metadata": {},
   "outputs": [],
   "source": []
  }
 ],
 "metadata": {
  "kernelspec": {
   "display_name": "Python 3 (ipykernel)",
   "language": "python",
   "name": "python3"
  },
  "language_info": {
   "codemirror_mode": {
    "name": "ipython",
    "version": 3
   },
   "file_extension": ".py",
   "mimetype": "text/x-python",
   "name": "python",
   "nbconvert_exporter": "python",
   "pygments_lexer": "ipython3",
   "version": "3.10.8"
  }
 },
 "nbformat": 4,
 "nbformat_minor": 4
}
