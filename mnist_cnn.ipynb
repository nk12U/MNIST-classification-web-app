{
 "cells": [
  {
   "cell_type": "markdown",
   "metadata": {},
   "source": [
    "# 起動・ライブラリの準備"
   ]
  },
  {
   "cell_type": "markdown",
   "metadata": {},
   "source": [
    "## ライブラリのインポート"
   ]
  },
  {
   "cell_type": "code",
   "execution_count": 10,
   "metadata": {
    "scrolled": true
   },
   "outputs": [],
   "source": [
    "# 配列計算ライブラリ NumPy\n",
    "import numpy as np\n",
    "\n",
    "# 画像表示用関数\n",
    "from matplotlib.pyplot import imshow\n",
    "import matplotlib.pyplot as plt\n",
    "%matplotlib inline\n",
    "\n",
    "# tf.Kerasのディープラーニング用クラス\n",
    "from tensorflow.keras.models import Sequential\n",
    "from tensorflow.keras.layers import Dense, Dropout, Activation\n",
    "from tensorflow.keras.optimizers import SGD, Adam\n",
    "from tensorflow.keras import utils\n",
    "\n",
    "from tensorflow.keras.layers import Conv2D, MaxPool2D, Flatten\n",
    "\n",
    "# tf.Kerasに入っているMnistデータ\n",
    "from tensorflow.keras.datasets import mnist"
   ]
  },
  {
   "cell_type": "markdown",
   "metadata": {},
   "source": [
    "# データの準備・加工"
   ]
  },
  {
   "cell_type": "markdown",
   "metadata": {},
   "source": [
    "## データセットの読み込み"
   ]
  },
  {
   "cell_type": "code",
   "execution_count": 11,
   "metadata": {},
   "outputs": [],
   "source": [
    "(X_train, y_train), (X_test, y_test) = mnist.load_data()"
   ]
  },
  {
   "cell_type": "markdown",
   "metadata": {},
   "source": [
    "## 学習用画像を1枚表示"
   ]
  },
  {
   "cell_type": "code",
   "execution_count": 12,
   "metadata": {
    "scrolled": true
   },
   "outputs": [
    {
     "data": {
      "text/plain": [
       "<matplotlib.image.AxesImage at 0x1e743a90820>"
      ]
     },
     "execution_count": 12,
     "metadata": {},
     "output_type": "execute_result"
    },
    {
     "data": {
      "image/png": "[encoded data removed]",
      "text/plain": [
       "<Figure size 640x480 with 1 Axes>"
      ]
     },
     "metadata": {},
     "output_type": "display_data"
    }
   ],
   "source": [
    "imshow(X_train[0], \"gray\")"
   ]
  },
  {
   "cell_type": "markdown",
   "metadata": {},
   "source": [
    "## 学習用正解ラベルを1つ表示"
   ]
  },
  {
   "cell_type": "code",
   "execution_count": 13,
   "metadata": {
    "scrolled": true
   },
   "outputs": [
    {
     "name": "stdout",
     "output_type": "stream",
     "text": [
      "5\n"
     ]
    }
   ],
   "source": [
    "print(y_train[0])"
   ]
  },
  {
   "cell_type": "markdown",
   "metadata": {},
   "source": [
    "## 変数の構造を確認"
   ]
  },
  {
   "cell_type": "code",
   "execution_count": 14,
   "metadata": {
    "scrolled": true
   },
   "outputs": [
    {
     "name": "stdout",
     "output_type": "stream",
     "text": [
      "(60000, 28, 28)\n"
     ]
    }
   ],
   "source": [
    "print(X_train.shape)"
   ]
  },
  {
   "cell_type": "markdown",
   "metadata": {},
   "source": [
    "## 画像の実際の内容を確認"
   ]
  },
  {
   "cell_type": "code",
   "execution_count": 15,
   "metadata": {},
   "outputs": [
    {
     "name": "stdout",
     "output_type": "stream",
     "text": [
      "[[  0   0   0   0   0   0   0   0   0   0   0   0   0   0   0   0   0   0\n",
      "    0   0   0   0   0   0   0   0   0   0]\n",
      " [  0   0   0   0   0   0   0   0   0   0   0   0   0   0   0   0   0   0\n",
      "    0   0   0   0   0   0   0   0   0   0]\n",
      " [  0   0   0   0   0   0   0   0   0   0   0   0   0   0   0   0   0   0\n",
      "    0   0   0   0   0   0   0   0   0   0]\n",
      " [  0   0   0   0   0   0   0   0   0   0   0   0   0   0   0   0   0   0\n",
      "    0   0   0   0   0   0   0   0   0   0]\n",
      " [  0   0   0   0   0   0   0   0   0   0   0   0   0   0   0   0   0   0\n",
      "    0   0   0   0   0   0   0   0   0   0]\n",
      " [  0   0   0   0   0   0   0   0   0   0   0   0   3  18  18  18 126 136\n",
      "  175  26 166 255 247 127   0   0   0   0]\n",
      " [  0   0   0   0   0   0   0   0  30  36  94 154 170 253 253 253 253 253\n",
      "  225 172 253 242 195  64   0   0   0   0]\n",
      " [  0   0   0   0   0   0   0  49 238 253 253 253 253 253 253 253 253 251\n",
      "   93  82  82  56  39   0   0   0   0   0]\n",
      " [  0   0   0   0   0   0   0  18 219 253 253 253 253 253 198 182 247 241\n",
      "    0   0   0   0   0   0   0   0   0   0]\n",
      " [  0   0   0   0   0   0   0   0  80 156 107 253 253 205  11   0  43 154\n",
      "    0   0   0   0   0   0   0   0   0   0]\n",
      " [  0   0   0   0   0   0   0   0   0  14   1 154 253  90   0   0   0   0\n",
      "    0   0   0   0   0   0   0   0   0   0]\n",
      " [  0   0   0   0   0   0   0   0   0   0   0 139 253 190   2   0   0   0\n",
      "    0   0   0   0   0   0   0   0   0   0]\n",
      " [  0   0   0   0   0   0   0   0   0   0   0  11 190 253  70   0   0   0\n",
      "    0   0   0   0   0   0   0   0   0   0]\n",
      " [  0   0   0   0   0   0   0   0   0   0   0   0  35 241 225 160 108   1\n",
      "    0   0   0   0   0   0   0   0   0   0]\n",
      " [  0   0   0   0   0   0   0   0   0   0   0   0   0  81 240 253 253 119\n",
      "   25   0   0   0   0   0   0   0   0   0]\n",
      " [  0   0   0   0   0   0   0   0   0   0   0   0   0   0  45 186 253 253\n",
      "  150  27   0   0   0   0   0   0   0   0]\n",
      " [  0   0   0   0   0   0   0   0   0   0   0   0   0   0   0  16  93 252\n",
      "  253 187   0   0   0   0   0   0   0   0]\n",
      " [  0   0   0   0   0   0   0   0   0   0   0   0   0   0   0   0   0 249\n",
      "  253 249  64   0   0   0   0   0   0   0]\n",
      " [  0   0   0   0   0   0   0   0   0   0   0   0   0   0  46 130 183 253\n",
      "  253 207   2   0   0   0   0   0   0   0]\n",
      " [  0   0   0   0   0   0   0   0   0   0   0   0  39 148 229 253 253 253\n",
      "  250 182   0   0   0   0   0   0   0   0]\n",
      " [  0   0   0   0   0   0   0   0   0   0  24 114 221 253 253 253 253 201\n",
      "   78   0   0   0   0   0   0   0   0   0]\n",
      " [  0   0   0   0   0   0   0   0  23  66 213 253 253 253 253 198  81   2\n",
      "    0   0   0   0   0   0   0   0   0   0]\n",
      " [  0   0   0   0   0   0  18 171 219 253 253 253 253 195  80   9   0   0\n",
      "    0   0   0   0   0   0   0   0   0   0]\n",
      " [  0   0   0   0  55 172 226 253 253 253 253 244 133  11   0   0   0   0\n",
      "    0   0   0   0   0   0   0   0   0   0]\n",
      " [  0   0   0   0 136 253 253 253 212 135 132  16   0   0   0   0   0   0\n",
      "    0   0   0   0   0   0   0   0   0   0]\n",
      " [  0   0   0   0   0   0   0   0   0   0   0   0   0   0   0   0   0   0\n",
      "    0   0   0   0   0   0   0   0   0   0]\n",
      " [  0   0   0   0   0   0   0   0   0   0   0   0   0   0   0   0   0   0\n",
      "    0   0   0   0   0   0   0   0   0   0]\n",
      " [  0   0   0   0   0   0   0   0   0   0   0   0   0   0   0   0   0   0\n",
      "    0   0   0   0   0   0   0   0   0   0]]\n"
     ]
    }
   ],
   "source": [
    "print(X_train[0])"
   ]
  },
  {
   "cell_type": "markdown",
   "metadata": {},
   "source": [
    "## 前処理１：画像を一次元の配列に変形"
   ]
  },
  {
   "cell_type": "code",
   "execution_count": 16,
   "metadata": {},
   "outputs": [],
   "source": [
    "# x_train = X_train.reshape(60000, 784)\n",
    "# x_test = X_test.reshape(10000, 784)\n",
    "# print(x_train[0])"
   ]
  },
  {
   "cell_type": "markdown",
   "metadata": {},
   "source": [
    "## 前処理２：画素の正規化"
   ]
  },
  {
   "cell_type": "code",
   "execution_count": 17,
   "metadata": {},
   "outputs": [],
   "source": [
    "x_train = X_train.astype('float32')\n",
    "x_test = X_test.astype('float32')\n",
    "\n",
    "x_train /= 255\n",
    "x_test /= 255"
   ]
  },
  {
   "cell_type": "markdown",
   "metadata": {},
   "source": [
    "## 前処理３：正解ラベルのOne-Hotエンコーディング"
   ]
  },
  {
   "cell_type": "code",
   "execution_count": 18,
   "metadata": {},
   "outputs": [
    {
     "name": "stdout",
     "output_type": "stream",
     "text": [
      "[5 0 4 ... 5 6 8]\n"
     ]
    }
   ],
   "source": [
    "#★現在のラベルを表示\n",
    "print(y_train)"
   ]
  },
  {
   "cell_type": "code",
   "execution_count": 19,
   "metadata": {},
   "outputs": [],
   "source": [
    "#★One-Hotエンコーディング\n",
    "y_train_label = utils.to_categorical(y_train)\n",
    "y_test_label = utils.to_categorical(y_test)"
   ]
  },
  {
   "cell_type": "code",
   "execution_count": 20,
   "metadata": {},
   "outputs": [
    {
     "name": "stdout",
     "output_type": "stream",
     "text": [
      "[[0. 0. 0. ... 0. 0. 0.]\n",
      " [1. 0. 0. ... 0. 0. 0.]\n",
      " [0. 0. 0. ... 0. 0. 0.]\n",
      " ...\n",
      " [0. 0. 0. ... 0. 0. 0.]\n",
      " [0. 0. 0. ... 0. 0. 0.]\n",
      " [0. 0. 0. ... 0. 1. 0.]]\n"
     ]
    }
   ],
   "source": [
    "#★結果を表示\n",
    "print(y_train_label)"
   ]
  },
  {
   "cell_type": "markdown",
   "metadata": {},
   "source": [
    "# 学習方法の決定"
   ]
  },
  {
   "cell_type": "markdown",
   "metadata": {},
   "source": [
    "## ニューラルネットワークモデルを構築"
   ]
  },
  {
   "cell_type": "code",
   "execution_count": 21,
   "metadata": {},
   "outputs": [],
   "source": [
    "def build_multilayer_perceptron():\n",
    "    model = Sequential()\n",
    "\n",
    "    #Conv2D(フィルタ数, ストライド, 入力のサイズ)\n",
    "    model.add(Conv2D(32, 3, input_shape=(28, 28, 1)))\n",
    "    model.add(Activation('relu'))\n",
    "    model.add(MaxPool2D(pool_size=(2,2)))\n",
    "\n",
    "    model.add(Conv2D(64, 3))\n",
    "    model.add(Activation('relu'))\n",
    "    model.add(MaxPool2D(pool_size=(2,2)))\n",
    "\n",
    "    model.add(Conv2D(128, 3))\n",
    "    model.add(Activation('relu'))\n",
    "    model.add(MaxPool2D(pool_size=(2,2)))\n",
    "\n",
    "    model.add(Dropout(0.5))\n",
    "\n",
    "    model.add(Flatten())\n",
    "    \n",
    "    model.add(Dense(10))\n",
    "    model.add(Activation('softmax'))\n",
    "    \n",
    "    return model"
   ]
  },
  {
   "cell_type": "code",
   "execution_count": 22,
   "metadata": {},
   "outputs": [],
   "source": [
    "#★上の関数でモデルを構築\n",
    "model = build_multilayer_perceptron()"
   ]
  },
  {
   "cell_type": "markdown",
   "metadata": {},
   "source": [
    "## モデルの構造を確認"
   ]
  },
  {
   "cell_type": "code",
   "execution_count": 23,
   "metadata": {},
   "outputs": [
    {
     "name": "stdout",
     "output_type": "stream",
     "text": [
      "Model: \"sequential\"\n",
      "_________________________________________________________________\n",
      " Layer (type)                Output Shape              Param #   \n",
      "=================================================================\n",
      " conv2d (Conv2D)             (None, 26, 26, 32)        320       \n",
      "                                                                 \n",
      " activation (Activation)     (None, 26, 26, 32)        0         \n",
      "                                                                 \n",
      " max_pooling2d (MaxPooling2  (None, 13, 13, 32)        0         \n",
      " D)                                                              \n",
      "                                                                 \n",
      " conv2d_1 (Conv2D)           (None, 11, 11, 64)        18496     \n",
      "                                                                 \n",
      " activation_1 (Activation)   (None, 11, 11, 64)        0         \n",
      "                                                                 \n",
      " max_pooling2d_1 (MaxPoolin  (None, 5, 5, 64)          0         \n",
      " g2D)                                                            \n",
      "                                                                 \n",
      " conv2d_2 (Conv2D)           (None, 3, 3, 128)         73856     \n",
      "                                                                 \n",
      " activation_2 (Activation)   (None, 3, 3, 128)         0         \n",
      "                                                                 \n",
      " max_pooling2d_2 (MaxPoolin  (None, 1, 1, 128)         0         \n",
      " g2D)                                                            \n",
      "                                                                 \n",
      " dropout (Dropout)           (None, 1, 1, 128)         0         \n",
      "                                                                 \n",
      " flatten (Flatten)           (None, 128)               0         \n",
      "                                                                 \n",
      " dense (Dense)               (None, 10)                1290      \n",
      "                                                                 \n",
      " activation_3 (Activation)   (None, 10)                0         \n",
      "                                                                 \n",
      "=================================================================\n",
      "Total params: 93962 (367.04 KB)\n",
      "Trainable params: 93962 (367.04 KB)\n",
      "Non-trainable params: 0 (0.00 Byte)\n",
      "_________________________________________________________________\n"
     ]
    }
   ],
   "source": [
    "#★\n",
    "model.summary()"
   ]
  },
  {
   "cell_type": "markdown",
   "metadata": {},
   "source": [
    "## モデルのコンパイル"
   ]
  },
  {
   "cell_type": "code",
   "execution_count": 24,
   "metadata": {},
   "outputs": [],
   "source": [
    "model.compile(loss='categorical_crossentropy',\n",
    "              optimizer=Adam(),\n",
    "              metrics=['accuracy'])"
   ]
  },
  {
   "cell_type": "markdown",
   "metadata": {},
   "source": [
    "# 学習"
   ]
  },
  {
   "cell_type": "markdown",
   "metadata": {},
   "source": [
    "## 学習の実行"
   ]
  },
  {
   "cell_type": "code",
   "execution_count": 25,
   "metadata": {},
   "outputs": [
    {
     "name": "stdout",
     "output_type": "stream",
     "text": [
      "Epoch 1/20\n",
      "469/469 [==============================] - 43s 89ms/step - loss: 1.0220 - accuracy: 0.7585 - val_loss: 0.1352 - val_accuracy: 0.9595\n",
      "Epoch 2/20\n",
      "469/469 [==============================] - 40s 86ms/step - loss: 0.2563 - accuracy: 0.9240 - val_loss: 0.1001 - val_accuracy: 0.9707\n",
      "Epoch 3/20\n",
      "469/469 [==============================] - 40s 85ms/step - loss: 0.1796 - accuracy: 0.9477 - val_loss: 0.0883 - val_accuracy: 0.9758\n",
      "Epoch 4/20\n",
      "469/469 [==============================] - 37s 79ms/step - loss: 0.1393 - accuracy: 0.9590 - val_loss: 0.0673 - val_accuracy: 0.9797\n",
      "Epoch 5/20\n",
      "469/469 [==============================] - 37s 79ms/step - loss: 0.1159 - accuracy: 0.9654 - val_loss: 0.0810 - val_accuracy: 0.9767\n",
      "Epoch 6/20\n",
      "469/469 [==============================] - 37s 79ms/step - loss: 0.1047 - accuracy: 0.9693 - val_loss: 0.0756 - val_accuracy: 0.9802\n",
      "Epoch 7/20\n",
      "469/469 [==============================] - 37s 79ms/step - loss: 0.0970 - accuracy: 0.9719 - val_loss: 0.0667 - val_accuracy: 0.9849\n",
      "Epoch 8/20\n",
      "469/469 [==============================] - 36s 77ms/step - loss: 0.0851 - accuracy: 0.9745 - val_loss: 0.0607 - val_accuracy: 0.9852\n",
      "Epoch 9/20\n",
      "469/469 [==============================] - 38s 80ms/step - loss: 0.0774 - accuracy: 0.9776 - val_loss: 0.0560 - val_accuracy: 0.9839\n",
      "Epoch 10/20\n",
      "469/469 [==============================] - 38s 82ms/step - loss: 0.0746 - accuracy: 0.9779 - val_loss: 0.0581 - val_accuracy: 0.9841\n",
      "Epoch 11/20\n",
      "469/469 [==============================] - 37s 79ms/step - loss: 0.0707 - accuracy: 0.9787 - val_loss: 0.0593 - val_accuracy: 0.9855\n",
      "Epoch 12/20\n",
      "469/469 [==============================] - 38s 81ms/step - loss: 0.0664 - accuracy: 0.9805 - val_loss: 0.0609 - val_accuracy: 0.9841\n",
      "Epoch 13/20\n",
      "469/469 [==============================] - 38s 81ms/step - loss: 0.0603 - accuracy: 0.9822 - val_loss: 0.0508 - val_accuracy: 0.9868\n",
      "Epoch 14/20\n",
      "469/469 [==============================] - 37s 79ms/step - loss: 0.0603 - accuracy: 0.9819 - val_loss: 0.0536 - val_accuracy: 0.9860\n",
      "Epoch 15/20\n",
      "469/469 [==============================] - 43s 91ms/step - loss: 0.0517 - accuracy: 0.9843 - val_loss: 0.0499 - val_accuracy: 0.9879\n",
      "Epoch 16/20\n",
      "469/469 [==============================] - 38s 80ms/step - loss: 0.0540 - accuracy: 0.9840 - val_loss: 0.0544 - val_accuracy: 0.9866\n",
      "Epoch 17/20\n",
      "469/469 [==============================] - 37s 80ms/step - loss: 0.0495 - accuracy: 0.9851 - val_loss: 0.0564 - val_accuracy: 0.9866\n",
      "Epoch 18/20\n",
      "469/469 [==============================] - 37s 79ms/step - loss: 0.0483 - accuracy: 0.9859 - val_loss: 0.0481 - val_accuracy: 0.9884\n",
      "Epoch 19/20\n",
      "469/469 [==============================] - 39s 84ms/step - loss: 0.0435 - accuracy: 0.9869 - val_loss: 0.0621 - val_accuracy: 0.9869\n",
      "Epoch 20/20\n",
      "469/469 [==============================] - 37s 78ms/step - loss: 0.0453 - accuracy: 0.9864 - val_loss: 0.0521 - val_accuracy: 0.9876\n"
     ]
    }
   ],
   "source": [
    "history = model.fit(X_train, y_train_label,\n",
    "                   batch_size=128,\n",
    "                   epochs=20,\n",
    "                   verbose=1,\n",
    "                   validation_data=(X_test, y_test_label))"
   ]
  },
  {
   "cell_type": "markdown",
   "metadata": {},
   "source": [
    "# 予測・評価"
   ]
  },
  {
   "cell_type": "markdown",
   "metadata": {},
   "source": [
    "## 精度の評価"
   ]
  },
  {
   "cell_type": "code",
   "execution_count": 33,
   "metadata": {},
   "outputs": [
    {
     "name": "stdout",
     "output_type": "stream",
     "text": [
      "313/313 [==============================] - 3s 8ms/step - loss: 0.0521 - accuracy: 0.9876\n"
     ]
    }
   ],
   "source": [
    "#★\n",
    "score = model.evaluate(X_test, y_test_label)"
   ]
  },
  {
   "cell_type": "code",
   "execution_count": 35,
   "metadata": {
    "scrolled": true
   },
   "outputs": [
    {
     "name": "stdout",
     "output_type": "stream",
     "text": [
      "Test loss: 0.05207213759422302\n",
      "Test accuracy: 0.9876000285148621\n"
     ]
    }
   ],
   "source": [
    "print('Test loss:', score[0])\n",
    "print('Test accuracy:', score[1])"
   ]
  },
  {
   "cell_type": "markdown",
   "metadata": {},
   "source": [
    "## 実際の予測"
   ]
  },
  {
   "cell_type": "code",
   "execution_count": 36,
   "metadata": {},
   "outputs": [
    {
     "name": "stdout",
     "output_type": "stream",
     "text": [
      "313/313 [==============================] - 2s 6ms/step\n"
     ]
    }
   ],
   "source": [
    "#★\n",
    "predicts = model.predict(X_test).argmax(axis=-1)"
   ]
  },
  {
   "cell_type": "code",
   "execution_count": 37,
   "metadata": {},
   "outputs": [
    {
     "name": "stdout",
     "output_type": "stream",
     "text": [
      "predit label is 7\n",
      "label is 7\n"
     ]
    },
    {
     "data": {
      "text/plain": [
       "<matplotlib.image.AxesImage at 0x1e7438c8c70>"
      ]
     },
     "execution_count": 37,
     "metadata": {},
     "output_type": "execute_result"
    },
    {
     "data": {
      "image/png": "[encoded data removed]",
      "text/plain": [
       "<Figure size 640x480 with 1 Axes>"
      ]
     },
     "metadata": {},
     "output_type": "display_data"
    }
   ],
   "source": [
    "#★ X_test, y_test, predictsの最初の要素[0]を表示\n",
    "print(f\"predit label is {predicts[0]}\")\n",
    "print(f\"label is {y_test[0]}\")\n",
    "imshow(X_test[0], \"gray\")"
   ]
  },
  {
   "cell_type": "markdown",
   "metadata": {},
   "source": [
    "## 不正解を取得"
   ]
  },
  {
   "cell_type": "code",
   "execution_count": 38,
   "metadata": {},
   "outputs": [
    {
     "data": {
      "text/plain": [
       "[(43, (2, 4)),\n",
       " (115, (4, 9)),\n",
       " (247, (4, 6)),\n",
       " (321, (2, 7)),\n",
       " (359, (9, 8)),\n",
       " (449, (3, 5)),\n",
       " (543, (8, 7)),\n",
       " (582, (8, 2)),\n",
       " (646, (2, 1)),\n",
       " (659, (2, 1)),\n",
       " (726, (7, 0)),\n",
       " (883, (3, 2)),\n",
       " (938, (3, 5)),\n",
       " (947, (8, 9)),\n",
       " (1014, (6, 5)),\n",
       " (1232, (9, 4)),\n",
       " (1260, (7, 1)),\n",
       " (1299, (5, 7)),\n",
       " (1494, (7, 0)),\n",
       " (1522, (7, 8)),\n",
       " (1527, (1, 5)),\n",
       " (1621, (0, 6)),\n",
       " (1681, (3, 7)),\n",
       " (1790, (2, 7)),\n",
       " (1901, (9, 4)),\n",
       " (1940, (5, 0)),\n",
       " (2024, (7, 9)),\n",
       " (2035, (5, 3)),\n",
       " (2044, (2, 7)),\n",
       " (2053, (4, 9)),\n",
       " (2129, (9, 8)),\n",
       " (2130, (4, 9)),\n",
       " (2135, (6, 1)),\n",
       " (2182, (1, 2)),\n",
       " (2293, (9, 0)),\n",
       " (2299, (2, 7)),\n",
       " (2329, (0, 2)),\n",
       " (2405, (3, 2)),\n",
       " (2414, (9, 4)),\n",
       " (2447, (4, 9)),\n",
       " (2462, (2, 8)),\n",
       " (2488, (2, 7)),\n",
       " (2496, (2, 3)),\n",
       " (2578, (7, 2)),\n",
       " (2582, (9, 7)),\n",
       " (2597, (5, 3)),\n",
       " (2654, (6, 1)),\n",
       " (2742, (9, 0)),\n",
       " (2836, (4, 7)),\n",
       " (2896, (8, 0)),\n",
       " (2927, (3, 2)),\n",
       " (2930, (5, 6)),\n",
       " (2953, (3, 5)),\n",
       " (2995, (6, 8)),\n",
       " (3004, (2, 8)),\n",
       " (3060, (9, 7)),\n",
       " (3108, (3, 5)),\n",
       " (3369, (9, 1)),\n",
       " (3520, (6, 4)),\n",
       " (3762, (6, 8)),\n",
       " (3767, (7, 3)),\n",
       " (3776, (5, 8)),\n",
       " (3796, (2, 1)),\n",
       " (3808, (7, 2)),\n",
       " (3818, (0, 6)),\n",
       " (3926, (9, 8)),\n",
       " (3976, (7, 1)),\n",
       " (4017, (4, 9)),\n",
       " (4027, (7, 1)),\n",
       " (4078, (9, 8)),\n",
       " (4163, (9, 7)),\n",
       " (4176, (2, 7)),\n",
       " (4201, (1, 7)),\n",
       " (4248, (2, 7)),\n",
       " (4289, (2, 7)),\n",
       " (4382, (4, 9)),\n",
       " (4443, (3, 2)),\n",
       " (4521, (2, 7)),\n",
       " (4547, (6, 4)),\n",
       " (4571, (6, 0)),\n",
       " (4620, (6, 0)),\n",
       " (4699, (6, 1)),\n",
       " (4740, (3, 5)),\n",
       " (4816, (2, 3)),\n",
       " (4823, (9, 4)),\n",
       " (4860, (4, 9)),\n",
       " (5127, (2, 7)),\n",
       " (5246, (7, 2)),\n",
       " (5268, (9, 8)),\n",
       " (5450, (0, 7)),\n",
       " (5457, (1, 6)),\n",
       " (5936, (4, 9)),\n",
       " (5937, (5, 3)),\n",
       " (5997, (5, 3)),\n",
       " (6004, (8, 9)),\n",
       " (6081, (9, 5)),\n",
       " (6091, (9, 5)),\n",
       " (6157, (9, 5)),\n",
       " (6166, (9, 5)),\n",
       " (6172, (9, 5)),\n",
       " (6173, (9, 8)),\n",
       " (6571, (9, 7)),\n",
       " (6576, (7, 1)),\n",
       " (6597, (0, 7)),\n",
       " (6625, (8, 2)),\n",
       " (6783, (1, 6)),\n",
       " (6796, (2, 7)),\n",
       " (6954, (7, 2)),\n",
       " (7434, (4, 8)),\n",
       " (7492, (2, 7)),\n",
       " (8408, (8, 6)),\n",
       " (8519, (7, 3)),\n",
       " (8527, (4, 9)),\n",
       " (9009, (7, 2)),\n",
       " (9446, (2, 7)),\n",
       " (9634, (0, 4)),\n",
       " (9664, (2, 7)),\n",
       " (9692, (9, 7)),\n",
       " (9729, (5, 6)),\n",
       " (9792, (4, 9)),\n",
       " (9839, (2, 7)),\n",
       " (9867, (2, 7)),\n",
       " (9905, (3, 7)),\n",
       " (9922, (4, 9))]"
      ]
     },
     "execution_count": 38,
     "metadata": {},
     "output_type": "execute_result"
    }
   ],
   "source": [
    "wrongs = []\n",
    "for i, (y,predict) in enumerate(zip(y_test,predicts)):\n",
    "    if y != predict:\n",
    "        wrongs.append((i,(y, predict)))\n",
    "wrongs "
   ]
  },
  {
   "cell_type": "markdown",
   "metadata": {},
   "source": [
    "## 不正解画像を表示"
   ]
  },
  {
   "cell_type": "code",
   "execution_count": 39,
   "metadata": {},
   "outputs": [
    {
     "data": {
      "image/png": "[encoded data removed]",
      "text/plain": [
       "<Figure size 1500x1500 with 20 Axes>"
      ]
     },
     "metadata": {},
     "output_type": "display_data"
    }
   ],
   "source": [
    "f = plt.figure(figsize=(15,15))\n",
    "for i ,(index, (label, predict)) in enumerate(wrongs[:20]):\n",
    "    i += 1\n",
    "    axes = f.add_subplot(4,5,i)\n",
    "    axes.set_title(f\"label:{label}, predict:{predict}\")\n",
    "    axes.imshow(X_test[index], \"gray\")"
   ]
  },
  {
   "cell_type": "markdown",
   "metadata": {
    "collapsed": true,
    "jupyter": {
     "outputs_hidden": true
    }
   },
   "source": [
    "## モデルの保存"
   ]
  },
  {
   "cell_type": "code",
   "execution_count": 41,
   "metadata": {},
   "outputs": [],
   "source": [
    "model.save(\"model_cnn.keras\")"
   ]
  }
 ],
 "metadata": {
  "kernelspec": {
   "display_name": "Python 3 (ipykernel)",
   "language": "python",
   "name": "python3"
  },
  "language_info": {
   "codemirror_mode": {
    "name": "ipython",
    "version": 3
   },
   "file_extension": ".py",
   "mimetype": "text/x-python",
   "name": "python",
   "nbconvert_exporter": "python",
   "pygments_lexer": "ipython3",
   "version": "3.10.8"
  },
  "toc": {
   "colors": {
    "hover_highlight": "#DAA520",
    "navigate_num": "#000000",
    "navigate_text": "#333333",
    "running_highlight": "#FF0000",
    "selected_highlight": "#FFD700",
    "sidebar_border": "#EEEEEE",
    "wrapper_background": "#FFFFFF"
   },
   "moveMenuLeft": true,
   "nav_menu": {
    "height": "335px",
    "width": "252px"
   },
   "navigate_menu": true,
   "number_sections": true,
   "sideBar": true,
   "threshold": 4,
   "toc_cell": false,
   "toc_section_display": "block",
   "toc_window_display": true,
   "widenNotebook": false
  }
 },
 "nbformat": 4,
 "nbformat_minor": 4
}
