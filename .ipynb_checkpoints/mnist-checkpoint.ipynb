{
 "cells": [
  {
   "cell_type": "markdown",
   "metadata": {},
   "source": [
    "# 起動・ライブラリの準備"
   ]
  },
  {
   "cell_type": "markdown",
   "metadata": {},
   "source": [
    "## ライブラリのインポート"
   ]
  },
  {
   "cell_type": "code",
   "execution_count": 83,
   "metadata": {
    "scrolled": true
   },
   "outputs": [],
   "source": [
    "# 配列計算ライブラリ NumPy\n",
    "import numpy as np\n",
    "\n",
    "# 画像表示用関数\n",
    "from matplotlib.pyplot import imshow\n",
    "import matplotlib.pyplot as plt\n",
    "%matplotlib inline\n",
    "\n",
    "# tf.Kerasのディープラーニング用クラス\n",
    "from tensorflow.keras.models import Sequential\n",
    "from tensorflow.keras.layers import Dense, Dropout, Activation\n",
    "from tensorflow.keras.optimizers import SGD,Adam\n",
    "from tensorflow.keras import utils\n",
    "\n",
    "# tf.Kerasに入っているMnistデータ\n",
    "from tensorflow.keras.datasets import mnist"
   ]
  },
  {
   "cell_type": "markdown",
   "metadata": {},
   "source": [
    "# データの準備・加工"
   ]
  },
  {
   "cell_type": "markdown",
   "metadata": {},
   "source": [
    "## データセットの読み込み"
   ]
  },
  {
   "cell_type": "code",
   "execution_count": 61,
   "metadata": {},
   "outputs": [],
   "source": [
    "(X_train, y_train), (X_test, y_test) = mnist.load_data()"
   ]
  },
  {
   "cell_type": "markdown",
   "metadata": {},
   "source": [
    "## 学習用画像を1枚表示"
   ]
  },
  {
   "cell_type": "code",
   "execution_count": 62,
   "metadata": {
    "scrolled": true
   },
   "outputs": [
    {
     "data": {
      "text/plain": [
       "<matplotlib.image.AxesImage at 0x2115d4e6f50>"
      ]
     },
     "execution_count": 62,
     "metadata": {},
     "output_type": "execute_result"
    },
    {
     "data": {
      "image/png": "[encoded data removed]",
      "text/plain": [
       "<Figure size 640x480 with 1 Axes>"
      ]
     },
     "metadata": {},
     "output_type": "display_data"
    }
   ],
   "source": [
    "imshow(X_train[0], \"gray\")"
   ]
  },
  {
   "cell_type": "markdown",
   "metadata": {},
   "source": [
    "## 学習用正解ラベルを1つ表示"
   ]
  },
  {
   "cell_type": "code",
   "execution_count": 63,
   "metadata": {
    "scrolled": true
   },
   "outputs": [
    {
     "name": "stdout",
     "output_type": "stream",
     "text": [
      "5\n"
     ]
    }
   ],
   "source": [
    "print(y_train[0])"
   ]
  },
  {
   "cell_type": "markdown",
   "metadata": {},
   "source": [
    "## 変数の構造を確認"
   ]
  },
  {
   "cell_type": "code",
   "execution_count": 64,
   "metadata": {
    "scrolled": true
   },
   "outputs": [
    {
     "name": "stdout",
     "output_type": "stream",
     "text": [
      "(60000, 28, 28)\n"
     ]
    }
   ],
   "source": [
    "print(X_train.shape)"
   ]
  },
  {
   "cell_type": "markdown",
   "metadata": {},
   "source": [
    "## 画像の実際の内容を確認"
   ]
  },
  {
   "cell_type": "code",
   "execution_count": 65,
   "metadata": {},
   "outputs": [
    {
     "name": "stdout",
     "output_type": "stream",
     "text": [
      "[[  0   0   0   0   0   0   0   0   0   0   0   0   0   0   0   0   0   0\n",
      "    0   0   0   0   0   0   0   0   0   0]\n",
      " [  0   0   0   0   0   0   0   0   0   0   0   0   0   0   0   0   0   0\n",
      "    0   0   0   0   0   0   0   0   0   0]\n",
      " [  0   0   0   0   0   0   0   0   0   0   0   0   0   0   0   0   0   0\n",
      "    0   0   0   0   0   0   0   0   0   0]\n",
      " [  0   0   0   0   0   0   0   0   0   0   0   0   0   0   0   0   0   0\n",
      "    0   0   0   0   0   0   0   0   0   0]\n",
      " [  0   0   0   0   0   0   0   0   0   0   0   0   0   0   0   0   0   0\n",
      "    0   0   0   0   0   0   0   0   0   0]\n",
      " [  0   0   0   0   0   0   0   0   0   0   0   0   3  18  18  18 126 136\n",
      "  175  26 166 255 247 127   0   0   0   0]\n",
      " [  0   0   0   0   0   0   0   0  30  36  94 154 170 253 253 253 253 253\n",
      "  225 172 253 242 195  64   0   0   0   0]\n",
      " [  0   0   0   0   0   0   0  49 238 253 253 253 253 253 253 253 253 251\n",
      "   93  82  82  56  39   0   0   0   0   0]\n",
      " [  0   0   0   0   0   0   0  18 219 253 253 253 253 253 198 182 247 241\n",
      "    0   0   0   0   0   0   0   0   0   0]\n",
      " [  0   0   0   0   0   0   0   0  80 156 107 253 253 205  11   0  43 154\n",
      "    0   0   0   0   0   0   0   0   0   0]\n",
      " [  0   0   0   0   0   0   0   0   0  14   1 154 253  90   0   0   0   0\n",
      "    0   0   0   0   0   0   0   0   0   0]\n",
      " [  0   0   0   0   0   0   0   0   0   0   0 139 253 190   2   0   0   0\n",
      "    0   0   0   0   0   0   0   0   0   0]\n",
      " [  0   0   0   0   0   0   0   0   0   0   0  11 190 253  70   0   0   0\n",
      "    0   0   0   0   0   0   0   0   0   0]\n",
      " [  0   0   0   0   0   0   0   0   0   0   0   0  35 241 225 160 108   1\n",
      "    0   0   0   0   0   0   0   0   0   0]\n",
      " [  0   0   0   0   0   0   0   0   0   0   0   0   0  81 240 253 253 119\n",
      "   25   0   0   0   0   0   0   0   0   0]\n",
      " [  0   0   0   0   0   0   0   0   0   0   0   0   0   0  45 186 253 253\n",
      "  150  27   0   0   0   0   0   0   0   0]\n",
      " [  0   0   0   0   0   0   0   0   0   0   0   0   0   0   0  16  93 252\n",
      "  253 187   0   0   0   0   0   0   0   0]\n",
      " [  0   0   0   0   0   0   0   0   0   0   0   0   0   0   0   0   0 249\n",
      "  253 249  64   0   0   0   0   0   0   0]\n",
      " [  0   0   0   0   0   0   0   0   0   0   0   0   0   0  46 130 183 253\n",
      "  253 207   2   0   0   0   0   0   0   0]\n",
      " [  0   0   0   0   0   0   0   0   0   0   0   0  39 148 229 253 253 253\n",
      "  250 182   0   0   0   0   0   0   0   0]\n",
      " [  0   0   0   0   0   0   0   0   0   0  24 114 221 253 253 253 253 201\n",
      "   78   0   0   0   0   0   0   0   0   0]\n",
      " [  0   0   0   0   0   0   0   0  23  66 213 253 253 253 253 198  81   2\n",
      "    0   0   0   0   0   0   0   0   0   0]\n",
      " [  0   0   0   0   0   0  18 171 219 253 253 253 253 195  80   9   0   0\n",
      "    0   0   0   0   0   0   0   0   0   0]\n",
      " [  0   0   0   0  55 172 226 253 253 253 253 244 133  11   0   0   0   0\n",
      "    0   0   0   0   0   0   0   0   0   0]\n",
      " [  0   0   0   0 136 253 253 253 212 135 132  16   0   0   0   0   0   0\n",
      "    0   0   0   0   0   0   0   0   0   0]\n",
      " [  0   0   0   0   0   0   0   0   0   0   0   0   0   0   0   0   0   0\n",
      "    0   0   0   0   0   0   0   0   0   0]\n",
      " [  0   0   0   0   0   0   0   0   0   0   0   0   0   0   0   0   0   0\n",
      "    0   0   0   0   0   0   0   0   0   0]\n",
      " [  0   0   0   0   0   0   0   0   0   0   0   0   0   0   0   0   0   0\n",
      "    0   0   0   0   0   0   0   0   0   0]]\n"
     ]
    }
   ],
   "source": [
    "print(X_train[0])"
   ]
  },
  {
   "cell_type": "markdown",
   "metadata": {},
   "source": [
    "## 前処理１：画像を一次元の配列に変形"
   ]
  },
  {
   "cell_type": "code",
   "execution_count": 66,
   "metadata": {},
   "outputs": [
    {
     "name": "stdout",
     "output_type": "stream",
     "text": [
      "[  0   0   0   0   0   0   0   0   0   0   0   0   0   0   0   0   0   0\n",
      "   0   0   0   0   0   0   0   0   0   0   0   0   0   0   0   0   0   0\n",
      "   0   0   0   0   0   0   0   0   0   0   0   0   0   0   0   0   0   0\n",
      "   0   0   0   0   0   0   0   0   0   0   0   0   0   0   0   0   0   0\n",
      "   0   0   0   0   0   0   0   0   0   0   0   0   0   0   0   0   0   0\n",
      "   0   0   0   0   0   0   0   0   0   0   0   0   0   0   0   0   0   0\n",
      "   0   0   0   0   0   0   0   0   0   0   0   0   0   0   0   0   0   0\n",
      "   0   0   0   0   0   0   0   0   0   0   0   0   0   0   0   0   0   0\n",
      "   0   0   0   0   0   0   0   0   3  18  18  18 126 136 175  26 166 255\n",
      " 247 127   0   0   0   0   0   0   0   0   0   0   0   0  30  36  94 154\n",
      " 170 253 253 253 253 253 225 172 253 242 195  64   0   0   0   0   0   0\n",
      "   0   0   0   0   0  49 238 253 253 253 253 253 253 253 253 251  93  82\n",
      "  82  56  39   0   0   0   0   0   0   0   0   0   0   0   0  18 219 253\n",
      " 253 253 253 253 198 182 247 241   0   0   0   0   0   0   0   0   0   0\n",
      "   0   0   0   0   0   0   0   0  80 156 107 253 253 205  11   0  43 154\n",
      "   0   0   0   0   0   0   0   0   0   0   0   0   0   0   0   0   0   0\n",
      "   0  14   1 154 253  90   0   0   0   0   0   0   0   0   0   0   0   0\n",
      "   0   0   0   0   0   0   0   0   0   0   0   0   0 139 253 190   2   0\n",
      "   0   0   0   0   0   0   0   0   0   0   0   0   0   0   0   0   0   0\n",
      "   0   0   0   0   0  11 190 253  70   0   0   0   0   0   0   0   0   0\n",
      "   0   0   0   0   0   0   0   0   0   0   0   0   0   0   0   0  35 241\n",
      " 225 160 108   1   0   0   0   0   0   0   0   0   0   0   0   0   0   0\n",
      "   0   0   0   0   0   0   0   0   0  81 240 253 253 119  25   0   0   0\n",
      "   0   0   0   0   0   0   0   0   0   0   0   0   0   0   0   0   0   0\n",
      "   0   0  45 186 253 253 150  27   0   0   0   0   0   0   0   0   0   0\n",
      "   0   0   0   0   0   0   0   0   0   0   0   0   0  16  93 252 253 187\n",
      "   0   0   0   0   0   0   0   0   0   0   0   0   0   0   0   0   0   0\n",
      "   0   0   0   0   0   0   0 249 253 249  64   0   0   0   0   0   0   0\n",
      "   0   0   0   0   0   0   0   0   0   0   0   0   0   0  46 130 183 253\n",
      " 253 207   2   0   0   0   0   0   0   0   0   0   0   0   0   0   0   0\n",
      "   0   0   0   0  39 148 229 253 253 253 250 182   0   0   0   0   0   0\n",
      "   0   0   0   0   0   0   0   0   0   0   0   0  24 114 221 253 253 253\n",
      " 253 201  78   0   0   0   0   0   0   0   0   0   0   0   0   0   0   0\n",
      "   0   0  23  66 213 253 253 253 253 198  81   2   0   0   0   0   0   0\n",
      "   0   0   0   0   0   0   0   0   0   0  18 171 219 253 253 253 253 195\n",
      "  80   9   0   0   0   0   0   0   0   0   0   0   0   0   0   0   0   0\n",
      "  55 172 226 253 253 253 253 244 133  11   0   0   0   0   0   0   0   0\n",
      "   0   0   0   0   0   0   0   0   0   0 136 253 253 253 212 135 132  16\n",
      "   0   0   0   0   0   0   0   0   0   0   0   0   0   0   0   0   0   0\n",
      "   0   0   0   0   0   0   0   0   0   0   0   0   0   0   0   0   0   0\n",
      "   0   0   0   0   0   0   0   0   0   0   0   0   0   0   0   0   0   0\n",
      "   0   0   0   0   0   0   0   0   0   0   0   0   0   0   0   0   0   0\n",
      "   0   0   0   0   0   0   0   0   0   0   0   0   0   0   0   0   0   0\n",
      "   0   0   0   0   0   0   0   0   0   0]\n"
     ]
    }
   ],
   "source": [
    "x_train = X_train.reshape(60000, 784)\n",
    "x_test = X_test.reshape(10000, 784)\n",
    "print(x_train[0])"
   ]
  },
  {
   "cell_type": "markdown",
   "metadata": {},
   "source": [
    "## 前処理２：画素の正規化"
   ]
  },
  {
   "cell_type": "code",
   "execution_count": 67,
   "metadata": {},
   "outputs": [],
   "source": [
    "x_train = x_train.astype('float32')\n",
    "x_test = x_test.astype('float32')\n",
    "\n",
    "x_train /= 255\n",
    "x_test /= 255"
   ]
  },
  {
   "cell_type": "markdown",
   "metadata": {},
   "source": [
    "## 前処理３：正解ラベルのOne-Hotエンコーディング"
   ]
  },
  {
   "cell_type": "code",
   "execution_count": 68,
   "metadata": {},
   "outputs": [
    {
     "name": "stdout",
     "output_type": "stream",
     "text": [
      "[5 0 4 ... 5 6 8]\n"
     ]
    }
   ],
   "source": [
    "#★現在のラベルを表示\n",
    "print(y_train)"
   ]
  },
  {
   "cell_type": "code",
   "execution_count": 69,
   "metadata": {},
   "outputs": [],
   "source": [
    "#★One-Hotエンコーディング\n",
    "y_train_label = utils.to_categorical(y_train)\n",
    "y_test_label = utils.to_categorical(y_test)"
   ]
  },
  {
   "cell_type": "code",
   "execution_count": 70,
   "metadata": {},
   "outputs": [
    {
     "name": "stdout",
     "output_type": "stream",
     "text": [
      "[[0. 0. 0. ... 0. 0. 0.]\n",
      " [1. 0. 0. ... 0. 0. 0.]\n",
      " [0. 0. 0. ... 0. 0. 0.]\n",
      " ...\n",
      " [0. 0. 0. ... 0. 0. 0.]\n",
      " [0. 0. 0. ... 0. 0. 0.]\n",
      " [0. 0. 0. ... 0. 1. 0.]]\n"
     ]
    }
   ],
   "source": [
    "#★結果を表示\n",
    "print(y_train_label)"
   ]
  },
  {
   "cell_type": "markdown",
   "metadata": {},
   "source": [
    "# 学習方法の決定"
   ]
  },
  {
   "cell_type": "markdown",
   "metadata": {},
   "source": [
    "## ニューラルネットワークモデルを構築"
   ]
  },
  {
   "cell_type": "code",
   "execution_count": 84,
   "metadata": {},
   "outputs": [],
   "source": [
    "def build_multilayer_perceptron():\n",
    "    model = Sequential()\n",
    "\n",
    "    model.add(Dense(512, input_shape=(784,1)))\n",
    "    model.add(Activation('relu'))\n",
    "    \n",
    "    model.add(Dense(256))\n",
    "    model.add(Activation('relu'))\n",
    "\n",
    "    model.add(Dense(128))\n",
    "    model.add(Activation('relu'))\n",
    "    \n",
    "    model.add(Dense(10))\n",
    "    model.add(Activation('softmax'))\n",
    "    \n",
    "    return model"
   ]
  },
  {
   "cell_type": "code",
   "execution_count": 85,
   "metadata": {},
   "outputs": [],
   "source": [
    "#★上の関数でモデルを構築\n",
    "model = build_multilayer_perceptron()"
   ]
  },
  {
   "cell_type": "markdown",
   "metadata": {},
   "source": [
    "## モデルの構造を確認"
   ]
  },
  {
   "cell_type": "code",
   "execution_count": 73,
   "metadata": {},
   "outputs": [
    {
     "name": "stdout",
     "output_type": "stream",
     "text": [
      "Model: \"sequential_3\"\n",
      "_________________________________________________________________\n",
      " Layer (type)                Output Shape              Param #   \n",
      "=================================================================\n",
      " dense_8 (Dense)             (None, 512)               401920    \n",
      "                                                                 \n",
      " activation_8 (Activation)   (None, 512)               0         \n",
      "                                                                 \n",
      " dense_9 (Dense)             (None, 256)               131328    \n",
      "                                                                 \n",
      " activation_9 (Activation)   (None, 256)               0         \n",
      "                                                                 \n",
      " dense_10 (Dense)            (None, 128)               32896     \n",
      "                                                                 \n",
      " activation_10 (Activation)  (None, 128)               0         \n",
      "                                                                 \n",
      " dense_11 (Dense)            (None, 10)                1290      \n",
      "                                                                 \n",
      " activation_11 (Activation)  (None, 10)                0         \n",
      "                                                                 \n",
      "=================================================================\n",
      "Total params: 567434 (2.16 MB)\n",
      "Trainable params: 567434 (2.16 MB)\n",
      "Non-trainable params: 0 (0.00 Byte)\n",
      "_________________________________________________________________\n"
     ]
    }
   ],
   "source": [
    "#★\n",
    "model.summary()"
   ]
  },
  {
   "cell_type": "markdown",
   "metadata": {},
   "source": [
    "## モデルのコンパイル"
   ]
  },
  {
   "cell_type": "code",
   "execution_count": 74,
   "metadata": {},
   "outputs": [],
   "source": [
    "model.compile(loss='categorical_crossentropy',\n",
    "              optimizer=Adam(),\n",
    "              metrics=['accuracy'])"
   ]
  },
  {
   "cell_type": "markdown",
   "metadata": {},
   "source": [
    "# 学習"
   ]
  },
  {
   "cell_type": "markdown",
   "metadata": {},
   "source": [
    "## 学習の実行"
   ]
  },
  {
   "cell_type": "code",
   "execution_count": 75,
   "metadata": {},
   "outputs": [
    {
     "name": "stdout",
     "output_type": "stream",
     "text": [
      "Epoch 1/10\n",
      "469/469 [==============================] - 9s 16ms/step - loss: 0.2262 - accuracy: 0.9317 - val_loss: 0.1082 - val_accuracy: 0.9639\n",
      "Epoch 2/10\n",
      "469/469 [==============================] - 7s 15ms/step - loss: 0.0821 - accuracy: 0.9742 - val_loss: 0.0873 - val_accuracy: 0.9719\n",
      "Epoch 3/10\n",
      "469/469 [==============================] - 6s 14ms/step - loss: 0.0551 - accuracy: 0.9823 - val_loss: 0.0723 - val_accuracy: 0.9769\n",
      "Epoch 4/10\n",
      "469/469 [==============================] - 7s 14ms/step - loss: 0.0384 - accuracy: 0.9877 - val_loss: 0.0682 - val_accuracy: 0.9807\n",
      "Epoch 5/10\n",
      "469/469 [==============================] - 7s 15ms/step - loss: 0.0323 - accuracy: 0.9895 - val_loss: 0.0690 - val_accuracy: 0.9798\n",
      "Epoch 6/10\n",
      "469/469 [==============================] - 7s 14ms/step - loss: 0.0240 - accuracy: 0.9920 - val_loss: 0.0994 - val_accuracy: 0.9731\n",
      "Epoch 7/10\n",
      "469/469 [==============================] - 6s 14ms/step - loss: 0.0221 - accuracy: 0.9927 - val_loss: 0.0776 - val_accuracy: 0.9779\n",
      "Epoch 8/10\n",
      "469/469 [==============================] - 6s 14ms/step - loss: 0.0187 - accuracy: 0.9939 - val_loss: 0.0817 - val_accuracy: 0.9804\n",
      "Epoch 9/10\n",
      "469/469 [==============================] - 6s 14ms/step - loss: 0.0198 - accuracy: 0.9935 - val_loss: 0.0808 - val_accuracy: 0.9805\n",
      "Epoch 10/10\n",
      "469/469 [==============================] - 6s 13ms/step - loss: 0.0140 - accuracy: 0.9952 - val_loss: 0.0770 - val_accuracy: 0.9795\n"
     ]
    }
   ],
   "source": [
    "history = model.fit(x_train, y_train_label,\n",
    "                   batch_size=128,\n",
    "                   epochs=10,\n",
    "                   verbose=1,\n",
    "                   validation_data=(x_test, y_test_label))"
   ]
  },
  {
   "cell_type": "markdown",
   "metadata": {},
   "source": [
    "# 予測・評価"
   ]
  },
  {
   "cell_type": "markdown",
   "metadata": {},
   "source": [
    "## 精度の評価"
   ]
  },
  {
   "cell_type": "code",
   "execution_count": 76,
   "metadata": {},
   "outputs": [
    {
     "name": "stdout",
     "output_type": "stream",
     "text": [
      "313/313 [==============================] - 1s 4ms/step - loss: 0.0770 - accuracy: 0.9795\n"
     ]
    }
   ],
   "source": [
    "#★\n",
    "score = model.evaluate(x_test, y_test_label)"
   ]
  },
  {
   "cell_type": "code",
   "execution_count": 77,
   "metadata": {
    "scrolled": true
   },
   "outputs": [
    {
     "name": "stdout",
     "output_type": "stream",
     "text": [
      "Test loss: 0.07703336328268051\n",
      "Test accuracy: 0.9794999957084656\n"
     ]
    }
   ],
   "source": [
    "print('Test loss:', score[0])\n",
    "print('Test accuracy:', score[1])"
   ]
  },
  {
   "cell_type": "markdown",
   "metadata": {},
   "source": [
    "## 実際の予測"
   ]
  },
  {
   "cell_type": "code",
   "execution_count": 78,
   "metadata": {},
   "outputs": [
    {
     "name": "stdout",
     "output_type": "stream",
     "text": [
      "313/313 [==============================] - 1s 4ms/step\n"
     ]
    }
   ],
   "source": [
    "#★\n",
    "predicts = model.predict(x_test).argmax(axis=-1)"
   ]
  },
  {
   "cell_type": "code",
   "execution_count": 79,
   "metadata": {},
   "outputs": [
    {
     "name": "stdout",
     "output_type": "stream",
     "text": [
      "predit label is 7\n",
      "label is 7\n"
     ]
    },
    {
     "data": {
      "text/plain": [
       "<matplotlib.image.AxesImage at 0x2115e01fd00>"
      ]
     },
     "execution_count": 79,
     "metadata": {},
     "output_type": "execute_result"
    },
    {
     "data": {
      "image/png": "[encoded data removed]",
      "text/plain": [
       "<Figure size 640x480 with 1 Axes>"
      ]
     },
     "metadata": {},
     "output_type": "display_data"
    }
   ],
   "source": [
    "#★ X_test, y_test, predictsの最初の要素[0]を表示\n",
    "print(f\"predit label is {predicts[0]}\")\n",
    "print(f\"label is {y_test[0]}\")\n",
    "imshow(X_test[0], \"gray\")"
   ]
  },
  {
   "cell_type": "markdown",
   "metadata": {},
   "source": [
    "## 不正解を取得"
   ]
  },
  {
   "cell_type": "code",
   "execution_count": 80,
   "metadata": {},
   "outputs": [
    {
     "data": {
      "text/plain": [
       "[(104, (9, 5)),\n",
       " (111, (7, 1)),\n",
       " (115, (4, 9)),\n",
       " (119, (2, 8)),\n",
       " (151, (9, 8)),\n",
       " (217, (6, 5)),\n",
       " (247, (4, 2)),\n",
       " (259, (6, 0)),\n",
       " (321, (2, 7)),\n",
       " (445, (6, 0)),\n",
       " (552, (0, 8)),\n",
       " (582, (8, 2)),\n",
       " (583, (2, 7)),\n",
       " (646, (2, 6)),\n",
       " (659, (2, 1)),\n",
       " (684, (7, 3)),\n",
       " (691, (8, 4)),\n",
       " (707, (4, 9)),\n",
       " (720, (5, 8)),\n",
       " (900, (1, 5)),\n",
       " (924, (2, 7)),\n",
       " (947, (8, 9)),\n",
       " (1014, (6, 5)),\n",
       " (1039, (7, 2)),\n",
       " (1112, (4, 6)),\n",
       " (1156, (7, 8)),\n",
       " (1166, (3, 5)),\n",
       " (1226, (7, 2)),\n",
       " (1232, (9, 4)),\n",
       " (1239, (3, 5)),\n",
       " (1242, (4, 9)),\n",
       " (1247, (9, 5)),\n",
       " (1260, (7, 1)),\n",
       " (1299, (5, 7)),\n",
       " (1319, (8, 3)),\n",
       " (1328, (7, 8)),\n",
       " (1393, (5, 3)),\n",
       " (1395, (2, 3)),\n",
       " (1414, (9, 5)),\n",
       " (1444, (6, 4)),\n",
       " (1494, (7, 0)),\n",
       " (1500, (7, 1)),\n",
       " (1522, (7, 9)),\n",
       " (1527, (1, 5)),\n",
       " (1530, (8, 7)),\n",
       " (1531, (3, 5)),\n",
       " (1549, (4, 6)),\n",
       " (1609, (2, 6)),\n",
       " (1642, (2, 6)),\n",
       " (1681, (3, 7)),\n",
       " (1716, (7, 1)),\n",
       " (1717, (8, 0)),\n",
       " (1732, (9, 5)),\n",
       " (1773, (1, 6)),\n",
       " (1790, (2, 8)),\n",
       " (1901, (9, 4)),\n",
       " (1911, (5, 6)),\n",
       " (1941, (7, 8)),\n",
       " (1982, (6, 5)),\n",
       " (2004, (8, 5)),\n",
       " (2033, (0, 4)),\n",
       " (2053, (4, 9)),\n",
       " (2093, (8, 1)),\n",
       " (2109, (3, 7)),\n",
       " (2130, (4, 9)),\n",
       " (2135, (6, 1)),\n",
       " (2266, (1, 6)),\n",
       " (2292, (9, 5)),\n",
       " (2293, (9, 0)),\n",
       " (2299, (2, 8)),\n",
       " (2387, (9, 1)),\n",
       " (2406, (9, 4)),\n",
       " (2437, (2, 1)),\n",
       " (2447, (4, 9)),\n",
       " (2488, (2, 4)),\n",
       " (2597, (5, 3)),\n",
       " (2607, (7, 4)),\n",
       " (2618, (3, 5)),\n",
       " (2648, (9, 5)),\n",
       " (2654, (6, 1)),\n",
       " (2742, (9, 8)),\n",
       " (2877, (4, 7)),\n",
       " (2896, (8, 0)),\n",
       " (2921, (3, 2)),\n",
       " (2939, (9, 7)),\n",
       " (2952, (3, 5)),\n",
       " (2953, (3, 5)),\n",
       " (3012, (8, 9)),\n",
       " (3060, (9, 5)),\n",
       " (3073, (1, 2)),\n",
       " (3117, (5, 9)),\n",
       " (3225, (7, 9)),\n",
       " (3289, (8, 9)),\n",
       " (3405, (4, 9)),\n",
       " (3441, (7, 8)),\n",
       " (3451, (7, 3)),\n",
       " (3457, (1, 6)),\n",
       " (3475, (3, 7)),\n",
       " (3503, (9, 1)),\n",
       " (3520, (6, 4)),\n",
       " (3558, (5, 0)),\n",
       " (3559, (8, 5)),\n",
       " (3597, (9, 3)),\n",
       " (3727, (8, 4)),\n",
       " (3776, (5, 8)),\n",
       " (3780, (4, 6)),\n",
       " (3811, (2, 3)),\n",
       " (3818, (0, 4)),\n",
       " (3941, (4, 6)),\n",
       " (4065, (0, 9)),\n",
       " (4140, (8, 2)),\n",
       " (4156, (2, 3)),\n",
       " (4163, (9, 0)),\n",
       " (4176, (2, 7)),\n",
       " (4199, (7, 9)),\n",
       " (4224, (9, 7)),\n",
       " (4248, (2, 8)),\n",
       " (4289, (2, 7)),\n",
       " (4294, (9, 5)),\n",
       " (4321, (9, 3)),\n",
       " (4344, (9, 3)),\n",
       " (4363, (9, 5)),\n",
       " (4382, (4, 9)),\n",
       " (4437, (3, 2)),\n",
       " (4443, (3, 2)),\n",
       " (4477, (0, 6)),\n",
       " (4497, (8, 7)),\n",
       " (4504, (2, 7)),\n",
       " (4505, (9, 3)),\n",
       " (4536, (6, 5)),\n",
       " (4571, (6, 0)),\n",
       " (4639, (8, 9)),\n",
       " (4740, (3, 5)),\n",
       " (4751, (4, 6)),\n",
       " (4761, (9, 1)),\n",
       " (4783, (4, 9)),\n",
       " (4807, (8, 3)),\n",
       " (4837, (7, 1)),\n",
       " (4860, (4, 9)),\n",
       " (4874, (9, 7)),\n",
       " (4886, (7, 1)),\n",
       " (4966, (7, 3)),\n",
       " (5331, (1, 6)),\n",
       " (5634, (2, 3)),\n",
       " (5642, (1, 8)),\n",
       " (5676, (4, 2)),\n",
       " (5734, (3, 2)),\n",
       " (5745, (7, 1)),\n",
       " (5749, (8, 5)),\n",
       " (5936, (4, 9)),\n",
       " (5937, (5, 3)),\n",
       " (5955, (3, 8)),\n",
       " (5973, (3, 8)),\n",
       " (6011, (3, 9)),\n",
       " (6023, (3, 9)),\n",
       " (6166, (9, 5)),\n",
       " (6400, (0, 6)),\n",
       " (6416, (9, 3)),\n",
       " (6532, (0, 7)),\n",
       " (6555, (8, 9)),\n",
       " (6571, (9, 3)),\n",
       " (6574, (2, 6)),\n",
       " (6576, (7, 1)),\n",
       " (6597, (0, 7)),\n",
       " (6608, (9, 5)),\n",
       " (6632, (9, 5)),\n",
       " (6641, (8, 5)),\n",
       " (6651, (0, 5)),\n",
       " (6755, (8, 9)),\n",
       " (6783, (1, 6)),\n",
       " (7216, (0, 6)),\n",
       " (7457, (2, 7)),\n",
       " (7915, (7, 9)),\n",
       " (7921, (8, 2)),\n",
       " (8059, (2, 1)),\n",
       " (8091, (2, 8)),\n",
       " (8094, (2, 8)),\n",
       " (8106, (7, 1)),\n",
       " (8325, (0, 6)),\n",
       " (8522, (8, 6)),\n",
       " (8527, (4, 9)),\n",
       " (9009, (7, 2)),\n",
       " (9015, (7, 2)),\n",
       " (9019, (7, 2)),\n",
       " (9024, (7, 2)),\n",
       " (9280, (8, 5)),\n",
       " (9316, (8, 5)),\n",
       " (9500, (2, 7)),\n",
       " (9587, (9, 4)),\n",
       " (9613, (2, 1)),\n",
       " (9634, (0, 1)),\n",
       " (9664, (2, 7)),\n",
       " (9679, (6, 5)),\n",
       " (9700, (2, 8)),\n",
       " (9729, (5, 6)),\n",
       " (9742, (3, 8)),\n",
       " (9745, (4, 6)),\n",
       " (9749, (5, 6)),\n",
       " (9755, (8, 5)),\n",
       " (9770, (5, 6)),\n",
       " (9793, (6, 5)),\n",
       " (9850, (0, 6)),\n",
       " (9867, (2, 8)),\n",
       " (9904, (2, 8)),\n",
       " (9980, (2, 7))]"
      ]
     },
     "execution_count": 80,
     "metadata": {},
     "output_type": "execute_result"
    }
   ],
   "source": [
    "wrongs = []\n",
    "for i, (y,predict) in enumerate(zip(y_test,predicts)):\n",
    "    if y != predict:\n",
    "        wrongs.append((i,(y, predict)))\n",
    "wrongs "
   ]
  },
  {
   "cell_type": "markdown",
   "metadata": {},
   "source": [
    "## 不正解画像を表示"
   ]
  },
  {
   "cell_type": "code",
   "execution_count": 81,
   "metadata": {},
   "outputs": [
    {
     "data": {
      "image/png": "[encoded data removed]",
      "text/plain": [
       "<Figure size 1500x1500 with 20 Axes>"
      ]
     },
     "metadata": {},
     "output_type": "display_data"
    }
   ],
   "source": [
    "f = plt.figure(figsize=(15,15))\n",
    "for i ,(index, (label, predict)) in enumerate(wrongs[:20]):\n",
    "    i += 1\n",
    "    axes = f.add_subplot(4,5,i)\n",
    "    axes.set_title(f\"label:{label}, predict:{predict}\")\n",
    "    axes.imshow(X_test[index], \"gray\")"
   ]
  },
  {
   "cell_type": "markdown",
   "metadata": {
    "collapsed": true,
    "jupyter": {
     "outputs_hidden": true
    }
   },
   "source": [
    "## モデルの保存"
   ]
  },
  {
   "cell_type": "code",
   "execution_count": 82,
   "metadata": {},
   "outputs": [],
   "source": [
    "model.save(\"model.keras\")"
   ]
  }
 ],
 "metadata": {
  "kernelspec": {
   "display_name": "Python 3 (ipykernel)",
   "language": "python",
   "name": "python3"
  },
  "language_info": {
   "codemirror_mode": {
    "name": "ipython",
    "version": 3
   },
   "file_extension": ".py",
   "mimetype": "text/x-python",
   "name": "python",
   "nbconvert_exporter": "python",
   "pygments_lexer": "ipython3",
   "version": "3.10.8"
  },
  "toc": {
   "colors": {
    "hover_highlight": "#DAA520",
    "navigate_num": "#000000",
    "navigate_text": "#333333",
    "running_highlight": "#FF0000",
    "selected_highlight": "#FFD700",
    "sidebar_border": "#EEEEEE",
    "wrapper_background": "#FFFFFF"
   },
   "moveMenuLeft": true,
   "nav_menu": {
    "height": "335px",
    "width": "252px"
   },
   "navigate_menu": true,
   "number_sections": true,
   "sideBar": true,
   "threshold": 4,
   "toc_cell": false,
   "toc_section_display": "block",
   "toc_window_display": true,
   "widenNotebook": false
  }
 },
 "nbformat": 4,
 "nbformat_minor": 4
}
